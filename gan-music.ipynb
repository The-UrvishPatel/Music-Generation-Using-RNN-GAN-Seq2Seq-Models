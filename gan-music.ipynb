{
 "cells": [
  {
   "cell_type": "code",
   "execution_count": 1,
   "id": "f609cf42",
   "metadata": {
    "_cell_guid": "b1076dfc-b9ad-4769-8c92-a6c4dae69d19",
    "_uuid": "8f2839f25d086af736a60e9eeb907d3b93b6e0e5",
    "execution": {
     "iopub.execute_input": "2024-04-21T10:01:03.632565Z",
     "iopub.status.busy": "2024-04-21T10:01:03.631962Z",
     "iopub.status.idle": "2024-04-21T10:01:10.409654Z",
     "shell.execute_reply": "2024-04-21T10:01:10.408845Z"
    },
    "papermill": {
     "duration": 6.787996,
     "end_time": "2024-04-21T10:01:10.411961",
     "exception": false,
     "start_time": "2024-04-21T10:01:03.623965",
     "status": "completed"
    },
    "tags": []
   },
   "outputs": [],
   "source": [
    "import torch.nn as nn\n",
    "from torch.utils.data import DataLoader, Dataset\n",
    "from torchvision import datasets\n",
    "import torchvision.transforms as transforms\n",
    "from torch import optim\n",
    "import torch\n",
    "from matplotlib import pyplot as plt"
   ]
  },
  {
   "cell_type": "code",
   "execution_count": 2,
   "id": "1985bc7f",
   "metadata": {
    "execution": {
     "iopub.execute_input": "2024-04-21T10:01:10.425749Z",
     "iopub.status.busy": "2024-04-21T10:01:10.425373Z",
     "iopub.status.idle": "2024-04-21T10:01:11.457125Z",
     "shell.execute_reply": "2024-04-21T10:01:11.456147Z"
    },
    "papermill": {
     "duration": 1.041289,
     "end_time": "2024-04-21T10:01:11.459593",
     "exception": false,
     "start_time": "2024-04-21T10:01:10.418304",
     "status": "completed"
    },
    "tags": []
   },
   "outputs": [],
   "source": [
    "from sklearn.preprocessing import OneHotEncoder\n",
    "import numpy as np"
   ]
  },
  {
   "cell_type": "code",
   "execution_count": 3,
   "id": "8fc7d52c",
   "metadata": {
    "execution": {
     "iopub.execute_input": "2024-04-21T10:01:11.473452Z",
     "iopub.status.busy": "2024-04-21T10:01:11.473056Z",
     "iopub.status.idle": "2024-04-21T10:01:11.517791Z",
     "shell.execute_reply": "2024-04-21T10:01:11.516886Z"
    },
    "papermill": {
     "duration": 0.053848,
     "end_time": "2024-04-21T10:01:11.519753",
     "exception": false,
     "start_time": "2024-04-21T10:01:11.465905",
     "status": "completed"
    },
    "tags": []
   },
   "outputs": [],
   "source": [
    "if torch.cuda.is_available():\n",
    "    device=torch.device(type='cuda',index=0)\n",
    "else:\n",
    "    device=torch.device(type='cpu',index=0)"
   ]
  },
  {
   "cell_type": "code",
   "execution_count": 4,
   "id": "36976e98",
   "metadata": {
    "execution": {
     "iopub.execute_input": "2024-04-21T10:01:11.533481Z",
     "iopub.status.busy": "2024-04-21T10:01:11.532893Z",
     "iopub.status.idle": "2024-04-21T10:01:11.556599Z",
     "shell.execute_reply": "2024-04-21T10:01:11.554719Z"
    },
    "papermill": {
     "duration": 0.032632,
     "end_time": "2024-04-21T10:01:11.558608",
     "exception": false,
     "start_time": "2024-04-21T10:01:11.525976",
     "status": "completed"
    },
    "tags": []
   },
   "outputs": [],
   "source": [
    "file_path = '/kaggle/input/piano-musics-abc-notation/piano-musics-abc-notation.txt'\n",
    "with open(file_path, 'r') as file:\n",
    "    abc_data = file.read()"
   ]
  },
  {
   "cell_type": "code",
   "execution_count": 5,
   "id": "77527445",
   "metadata": {
    "execution": {
     "iopub.execute_input": "2024-04-21T10:01:11.571920Z",
     "iopub.status.busy": "2024-04-21T10:01:11.571672Z",
     "iopub.status.idle": "2024-04-21T10:01:11.591656Z",
     "shell.execute_reply": "2024-04-21T10:01:11.590903Z"
    },
    "papermill": {
     "duration": 0.028795,
     "end_time": "2024-04-21T10:01:11.593509",
     "exception": false,
     "start_time": "2024-04-21T10:01:11.564714",
     "status": "completed"
    },
    "tags": []
   },
   "outputs": [],
   "source": [
    "tokens = sorted(set(abc_data))\n",
    "num_tokens = len(tokens)\n",
    "token_to_index = {token: i for i, token in enumerate(tokens)}\n",
    "index_to_token = {i: token for token, i in token_to_index.items()}"
   ]
  },
  {
   "cell_type": "code",
   "execution_count": 6,
   "id": "b9a16523",
   "metadata": {
    "execution": {
     "iopub.execute_input": "2024-04-21T10:01:11.607474Z",
     "iopub.status.busy": "2024-04-21T10:01:11.606940Z",
     "iopub.status.idle": "2024-04-21T10:01:11.610726Z",
     "shell.execute_reply": "2024-04-21T10:01:11.609939Z"
    },
    "papermill": {
     "duration": 0.012988,
     "end_time": "2024-04-21T10:01:11.612656",
     "exception": false,
     "start_time": "2024-04-21T10:01:11.599668",
     "status": "completed"
    },
    "tags": []
   },
   "outputs": [],
   "source": [
    "# token_to_index"
   ]
  },
  {
   "cell_type": "code",
   "execution_count": 7,
   "id": "6f41578c",
   "metadata": {
    "execution": {
     "iopub.execute_input": "2024-04-21T10:01:11.626081Z",
     "iopub.status.busy": "2024-04-21T10:01:11.625817Z",
     "iopub.status.idle": "2024-04-21T10:01:11.629946Z",
     "shell.execute_reply": "2024-04-21T10:01:11.629073Z"
    },
    "papermill": {
     "duration": 0.012895,
     "end_time": "2024-04-21T10:01:11.631784",
     "exception": false,
     "start_time": "2024-04-21T10:01:11.618889",
     "status": "completed"
    },
    "tags": []
   },
   "outputs": [],
   "source": [
    "encoder = OneHotEncoder(categories=[range(num_tokens)], sparse_output=False)"
   ]
  },
  {
   "cell_type": "code",
   "execution_count": 8,
   "id": "b2f88528",
   "metadata": {
    "execution": {
     "iopub.execute_input": "2024-04-21T10:01:11.645285Z",
     "iopub.status.busy": "2024-04-21T10:01:11.644983Z",
     "iopub.status.idle": "2024-04-21T10:01:11.648444Z",
     "shell.execute_reply": "2024-04-21T10:01:11.647633Z"
    },
    "papermill": {
     "duration": 0.01237,
     "end_time": "2024-04-21T10:01:11.650342",
     "exception": false,
     "start_time": "2024-04-21T10:01:11.637972",
     "status": "completed"
    },
    "tags": []
   },
   "outputs": [],
   "source": [
    "# abc_data = abc_data[0:1000]"
   ]
  },
  {
   "cell_type": "code",
   "execution_count": 9,
   "id": "d6e06110",
   "metadata": {
    "execution": {
     "iopub.execute_input": "2024-04-21T10:01:11.663850Z",
     "iopub.status.busy": "2024-04-21T10:01:11.663592Z",
     "iopub.status.idle": "2024-04-21T10:01:31.131791Z",
     "shell.execute_reply": "2024-04-21T10:01:31.130950Z"
    },
    "papermill": {
     "duration": 19.477584,
     "end_time": "2024-04-21T10:01:31.134095",
     "exception": false,
     "start_time": "2024-04-21T10:01:11.656511",
     "status": "completed"
    },
    "tags": []
   },
   "outputs": [],
   "source": [
    "SEQ_LENGTH = 100\n",
    "STEP = SEQ_LENGTH\n",
    "sequences = []\n",
    "\n",
    "for i in range(0, len(abc_data) - SEQ_LENGTH + 1, STEP):\n",
    "    seq = [token_to_index[token] for token in abc_data[i:i + SEQ_LENGTH]]\n",
    "    seq = encoder.fit_transform(np.array([seq]).reshape(-1, 1))\n",
    "    seq.reshape(SEQ_LENGTH, -1)\n",
    "    sequences.append(seq.tolist())"
   ]
  },
  {
   "cell_type": "code",
   "execution_count": 10,
   "id": "4b2e0a0a",
   "metadata": {
    "execution": {
     "iopub.execute_input": "2024-04-21T10:01:31.149303Z",
     "iopub.status.busy": "2024-04-21T10:01:31.148970Z",
     "iopub.status.idle": "2024-04-21T10:01:31.152786Z",
     "shell.execute_reply": "2024-04-21T10:01:31.151922Z"
    },
    "papermill": {
     "duration": 0.01303,
     "end_time": "2024-04-21T10:01:31.154735",
     "exception": false,
     "start_time": "2024-04-21T10:01:31.141705",
     "status": "completed"
    },
    "tags": []
   },
   "outputs": [],
   "source": [
    "# sequences[0]"
   ]
  },
  {
   "cell_type": "code",
   "execution_count": 11,
   "id": "3fa0bba9",
   "metadata": {
    "execution": {
     "iopub.execute_input": "2024-04-21T10:01:31.168704Z",
     "iopub.status.busy": "2024-04-21T10:01:31.168440Z",
     "iopub.status.idle": "2024-04-21T10:01:31.173724Z",
     "shell.execute_reply": "2024-04-21T10:01:31.172936Z"
    },
    "papermill": {
     "duration": 0.014345,
     "end_time": "2024-04-21T10:01:31.175583",
     "exception": false,
     "start_time": "2024-04-21T10:01:31.161238",
     "status": "completed"
    },
    "tags": []
   },
   "outputs": [],
   "source": [
    "class MusicDataset(Dataset):\n",
    "    def __init__(self, sequences):\n",
    "        self.sequences = sequences\n",
    "\n",
    "    def __len__(self):\n",
    "        return len(self.sequences)\n",
    "\n",
    "    def __getitem__(self, idx):\n",
    "        sequence = self.sequences[idx]\n",
    "        # Convert sequence to tensor if needed\n",
    "        sequence_tensor = torch.tensor(sequence, dtype=torch.float32)\n",
    "        return sequence_tensor"
   ]
  },
  {
   "cell_type": "code",
   "execution_count": 12,
   "id": "3be257bb",
   "metadata": {
    "execution": {
     "iopub.execute_input": "2024-04-21T10:01:31.189402Z",
     "iopub.status.busy": "2024-04-21T10:01:31.189135Z",
     "iopub.status.idle": "2024-04-21T10:01:31.192737Z",
     "shell.execute_reply": "2024-04-21T10:01:31.192004Z"
    },
    "papermill": {
     "duration": 0.01265,
     "end_time": "2024-04-21T10:01:31.194595",
     "exception": false,
     "start_time": "2024-04-21T10:01:31.181945",
     "status": "completed"
    },
    "tags": []
   },
   "outputs": [],
   "source": [
    "# np.array(sequences).shape"
   ]
  },
  {
   "cell_type": "code",
   "execution_count": 13,
   "id": "c48c38e6",
   "metadata": {
    "execution": {
     "iopub.execute_input": "2024-04-21T10:01:31.208405Z",
     "iopub.status.busy": "2024-04-21T10:01:31.208138Z",
     "iopub.status.idle": "2024-04-21T10:01:31.211708Z",
     "shell.execute_reply": "2024-04-21T10:01:31.210869Z"
    },
    "papermill": {
     "duration": 0.012587,
     "end_time": "2024-04-21T10:01:31.213591",
     "exception": false,
     "start_time": "2024-04-21T10:01:31.201004",
     "status": "completed"
    },
    "tags": []
   },
   "outputs": [],
   "source": [
    "train_data = MusicDataset(sequences)"
   ]
  },
  {
   "cell_type": "code",
   "execution_count": 14,
   "id": "3e4d54b9",
   "metadata": {
    "execution": {
     "iopub.execute_input": "2024-04-21T10:01:31.227656Z",
     "iopub.status.busy": "2024-04-21T10:01:31.227383Z",
     "iopub.status.idle": "2024-04-21T10:01:31.230940Z",
     "shell.execute_reply": "2024-04-21T10:01:31.230099Z"
    },
    "papermill": {
     "duration": 0.01255,
     "end_time": "2024-04-21T10:01:31.232762",
     "exception": false,
     "start_time": "2024-04-21T10:01:31.220212",
     "status": "completed"
    },
    "tags": []
   },
   "outputs": [],
   "source": [
    "batch_size=64"
   ]
  },
  {
   "cell_type": "code",
   "execution_count": 15,
   "id": "815dd557",
   "metadata": {
    "execution": {
     "iopub.execute_input": "2024-04-21T10:01:31.246820Z",
     "iopub.status.busy": "2024-04-21T10:01:31.246573Z",
     "iopub.status.idle": "2024-04-21T10:01:31.250654Z",
     "shell.execute_reply": "2024-04-21T10:01:31.249777Z"
    },
    "papermill": {
     "duration": 0.013249,
     "end_time": "2024-04-21T10:01:31.252537",
     "exception": false,
     "start_time": "2024-04-21T10:01:31.239288",
     "status": "completed"
    },
    "tags": []
   },
   "outputs": [],
   "source": [
    "train_dataloader=DataLoader(dataset=train_data, batch_size=batch_size, shuffle=True)"
   ]
  },
  {
   "cell_type": "code",
   "execution_count": 16,
   "id": "ec4a97fb",
   "metadata": {
    "execution": {
     "iopub.execute_input": "2024-04-21T10:01:31.267571Z",
     "iopub.status.busy": "2024-04-21T10:01:31.266797Z",
     "iopub.status.idle": "2024-04-21T10:01:31.766977Z",
     "shell.execute_reply": "2024-04-21T10:01:31.765943Z"
    },
    "papermill": {
     "duration": 0.509822,
     "end_time": "2024-04-21T10:01:31.769098",
     "exception": false,
     "start_time": "2024-04-21T10:01:31.259276",
     "status": "completed"
    },
    "tags": []
   },
   "outputs": [
    {
     "name": "stdout",
     "output_type": "stream",
     "text": [
      "0 torch.Size([64, 100, 86])\n",
      "1 torch.Size([64, 100, 86])\n",
      "2 torch.Size([64, 100, 86])\n",
      "3 torch.Size([64, 100, 86])\n",
      "4 torch.Size([64, 100, 86])\n",
      "5 torch.Size([64, 100, 86])\n",
      "6 torch.Size([64, 100, 86])\n"
     ]
    }
   ],
   "source": [
    "for i,(music) in enumerate(train_dataloader):\n",
    "    print(i, music.shape) \n",
    "    \n",
    "    if i > 5:\n",
    "        break"
   ]
  },
  {
   "cell_type": "code",
   "execution_count": 17,
   "id": "1242a7a9",
   "metadata": {
    "execution": {
     "iopub.execute_input": "2024-04-21T10:01:31.784830Z",
     "iopub.status.busy": "2024-04-21T10:01:31.784208Z",
     "iopub.status.idle": "2024-04-21T10:01:31.788090Z",
     "shell.execute_reply": "2024-04-21T10:01:31.787202Z"
    },
    "papermill": {
     "duration": 0.013664,
     "end_time": "2024-04-21T10:01:31.789861",
     "exception": false,
     "start_time": "2024-04-21T10:01:31.776197",
     "status": "completed"
    },
    "tags": []
   },
   "outputs": [],
   "source": [
    "# noise_vectors=torch.randn((32,100)).to(device)\n",
    "# noise_vectors.shape"
   ]
  },
  {
   "cell_type": "code",
   "execution_count": 18,
   "id": "6343b891",
   "metadata": {
    "execution": {
     "iopub.execute_input": "2024-04-21T10:01:31.805414Z",
     "iopub.status.busy": "2024-04-21T10:01:31.804876Z",
     "iopub.status.idle": "2024-04-21T10:01:31.808548Z",
     "shell.execute_reply": "2024-04-21T10:01:31.807737Z"
    },
    "papermill": {
     "duration": 0.013467,
     "end_time": "2024-04-21T10:01:31.810409",
     "exception": false,
     "start_time": "2024-04-21T10:01:31.796942",
     "status": "completed"
    },
    "tags": []
   },
   "outputs": [],
   "source": [
    "# sample_size = 50"
   ]
  },
  {
   "cell_type": "code",
   "execution_count": 19,
   "id": "e9200896",
   "metadata": {
    "execution": {
     "iopub.execute_input": "2024-04-21T10:01:31.826129Z",
     "iopub.status.busy": "2024-04-21T10:01:31.825373Z",
     "iopub.status.idle": "2024-04-21T10:01:31.845706Z",
     "shell.execute_reply": "2024-04-21T10:01:31.844842Z"
    },
    "papermill": {
     "duration": 0.030109,
     "end_time": "2024-04-21T10:01:31.847553",
     "exception": false,
     "start_time": "2024-04-21T10:01:31.817444",
     "status": "completed"
    },
    "tags": []
   },
   "outputs": [],
   "source": [
    "class Generator(nn.Module):\n",
    "    def __init__(self, latent_dim, feature_size, hidden_size, num_layers):\n",
    "        super().__init__()\n",
    "        \n",
    "        self.latent_dim = latent_dim\n",
    "        self.feature_size = feature_size\n",
    "        self.hidden_size = hidden_size\n",
    "        self.num_layers = num_layers\n",
    "        \n",
    "        self.leakyrelu = nn.LeakyReLU(negative_slope=0)\n",
    "        self.bn1 = nn.BatchNorm1d(self.feature_size * 100 * 2)\n",
    "        self.bn2 = nn.BatchNorm1d(self.feature_size * 100)\n",
    "        self.dropout = nn.Dropout(p=0.1)\n",
    "        \n",
    "        self.lin1 = nn.Linear(in_features=self.latent_dim, out_features=self.feature_size * 100 * 2)\n",
    "        self.lin2 = nn.Linear(in_features=self.feature_size * 100 * 2, out_features=self.feature_size * 100)\n",
    "        \n",
    "        # Define LSTM layer\n",
    "        self.lstm = nn.LSTM(input_size=self.feature_size, hidden_size=self.hidden_size, num_layers=self.num_layers, batch_first=True)\n",
    "        self.softmax = nn.Softmax(dim=-1)\n",
    "        self.argmax = lambda x: torch.argmax(x, dim=-1)\n",
    "        \n",
    "    def forward(self, x):\n",
    "        # Apply linear layer\n",
    "        x = self.lin1(x)\n",
    "        x = self.bn1(x)\n",
    "        x = self.leakyrelu(x)\n",
    "        x = self.dropout(x)\n",
    "    \n",
    "        x = self.lin2(x)\n",
    "        x = self.bn2(x)\n",
    "        x = self.leakyrelu(x)\n",
    "        x = self.dropout(x)\n",
    "        \n",
    "        x = x.view(-1, 100, self.feature_size)  # Reshape to (batch_size, sequence_length, feature_size)\n",
    "        # Pass through LSTM layer\n",
    "        output, hidden = self.lstm(x)\n",
    "        softmax_x = self.softmax(output)\n",
    "        argmax_x = self.argmax(softmax_x)\n",
    "        \n",
    "        return softmax_x, argmax_x\n",
    "\n",
    "# # Example usage\n",
    "# latent_dim = 100  # Example latent dimension\n",
    "# feature_size = 86  # Example feature size\n",
    "# hidden_size = 86  # Set hidden size to match feature size\n",
    "# num_layers = 2  # Example number of LSTM layers\n",
    "\n",
    "# # Initialize Generator model\n",
    "# generator = Generator(latent_dim, feature_size, hidden_size, num_layers)\n",
    "\n",
    "# # Example input\n",
    "# x = torch.randn(2, latent_dim)  # Example batch size of 32\n",
    "\n",
    "# # Forward pass\n",
    "# softmax_output, argmax_output = generator(x)\n",
    "# print(argmax_output)# Output shape will be (32, 100, 86)\n",
    "\n",
    "# print(softmax_output.shape)"
   ]
  },
  {
   "cell_type": "code",
   "execution_count": 20,
   "id": "a4fbf29d",
   "metadata": {
    "execution": {
     "iopub.execute_input": "2024-04-21T10:01:31.862756Z",
     "iopub.status.busy": "2024-04-21T10:01:31.862487Z",
     "iopub.status.idle": "2024-04-21T10:01:31.873691Z",
     "shell.execute_reply": "2024-04-21T10:01:31.872891Z"
    },
    "papermill": {
     "duration": 0.020906,
     "end_time": "2024-04-21T10:01:31.875597",
     "exception": false,
     "start_time": "2024-04-21T10:01:31.854691",
     "status": "completed"
    },
    "tags": []
   },
   "outputs": [],
   "source": [
    "class Discriminator(nn.Module):\n",
    "    def __init__(self, feature_size, hidden_size, num_layers):\n",
    "        super().__init__()\n",
    "        \n",
    "        self.feature_size = feature_size\n",
    "        self.hidden_size = hidden_size\n",
    "        self.num_layers = num_layers\n",
    "        \n",
    "        self.lstm = nn.LSTM(input_size=self.feature_size, hidden_size=self.hidden_size, num_layers=self.num_layers, batch_first=True)\n",
    "        self.leakyrelu = nn.LeakyReLU(negative_slope=0)\n",
    "        self.bn1 = nn.BatchNorm1d(self.feature_size * 100 * 4)\n",
    "        self.bn2 = nn.BatchNorm1d(64)\n",
    "        self.bn3 = nn.BatchNorm1d(2)\n",
    "        self.dropout = nn.Dropout(p=0.1)\n",
    "        \n",
    "        self.lin1 = nn.Linear(in_features=self.feature_size * 100, out_features=self.feature_size * 100 * 4)\n",
    "        self.lin2 = nn.Linear(in_features=self.feature_size * 100 * 4, out_features=64)\n",
    "        self.lin3 = nn.Linear(in_features=64, out_features=2)\n",
    "        \n",
    "        self.softmax = nn.Softmax(dim=-1)\n",
    "        self.argmax = lambda x: torch.argmax(x, dim=-1)\n",
    "        \n",
    "    def forward(self,x):\n",
    "        \n",
    "        output, hidden = self.lstm(x)\n",
    "        \n",
    "        x = output.contiguous().view(-1, 100 * self.feature_size) \n",
    "        \n",
    "        x = self.lin1(x)\n",
    "        x = self.bn1(x)\n",
    "        x = self.leakyrelu(x)\n",
    "        x = self.dropout(x)\n",
    "\n",
    "        \n",
    "        x = self.lin2(x)\n",
    "        x = self.bn2(x)\n",
    "        x = self.leakyrelu(x)\n",
    "        x = self.dropout(x)\n",
    "        \n",
    "        x = self.lin3(x)\n",
    "        x = self.bn3(x)\n",
    "        x = self.softmax(x)\n",
    "#         x = self.argmax(x)\n",
    "        \n",
    "        return x\n",
    "\n",
    "    \n",
    "# # Example usage\n",
    "# feature_size = 86  # Example feature size\n",
    "# hidden_size = 86  # Set hidden size to match feature size\n",
    "# num_layers = 2  # Example number of LSTM layers\n",
    "    \n",
    "# discriminator = Discriminator(feature_size, hidden_size, num_layers)\n",
    "\n",
    "\n",
    "# # Forward pass\n",
    "# cls_output = discriminator(softmax_output)\n",
    "# print(cls_output)# Output shape will be (32, 100, 86)"
   ]
  },
  {
   "cell_type": "code",
   "execution_count": 21,
   "id": "cb6f3413",
   "metadata": {
    "execution": {
     "iopub.execute_input": "2024-04-21T10:01:31.891273Z",
     "iopub.status.busy": "2024-04-21T10:01:31.890548Z",
     "iopub.status.idle": "2024-04-21T10:01:36.960514Z",
     "shell.execute_reply": "2024-04-21T10:01:36.959466Z"
    },
    "papermill": {
     "duration": 5.080291,
     "end_time": "2024-04-21T10:01:36.962981",
     "exception": false,
     "start_time": "2024-04-21T10:01:31.882690",
     "status": "completed"
    },
    "tags": []
   },
   "outputs": [],
   "source": [
    "# Example usage\n",
    "latent_dim = 100  # Example latent dimension\n",
    "feature_size = 86  # Example feature size\n",
    "hidden_size = 86  # Set hidden size to match feature size\n",
    "num_layers = 2  # Example number of LSTM layers\n",
    "\n",
    "\n",
    "# Initialize Generator model\n",
    "generator = Generator(latent_dim, feature_size, hidden_size, num_layers).to(device)\n",
    "discriminator = Discriminator(feature_size, hidden_size, num_layers).to(device)"
   ]
  },
  {
   "cell_type": "code",
   "execution_count": 22,
   "id": "41cee2bc",
   "metadata": {
    "execution": {
     "iopub.execute_input": "2024-04-21T10:01:36.979800Z",
     "iopub.status.busy": "2024-04-21T10:01:36.979155Z",
     "iopub.status.idle": "2024-04-21T10:01:36.985043Z",
     "shell.execute_reply": "2024-04-21T10:01:36.984166Z"
    },
    "papermill": {
     "duration": 0.016049,
     "end_time": "2024-04-21T10:01:36.986894",
     "exception": false,
     "start_time": "2024-04-21T10:01:36.970845",
     "status": "completed"
    },
    "tags": []
   },
   "outputs": [],
   "source": [
    "loss_fn=nn.CrossEntropyLoss().to(device)\n",
    "n_epochs=1 #actually, you should run for more epochs, may be 200\n",
    "lr=0.01\n",
    "\n",
    "gopt=optim.Adam(params=generator.parameters(),lr=lr)\n",
    "dopt=optim.Adam(params=discriminator.parameters(),lr=lr)"
   ]
  },
  {
   "cell_type": "code",
   "execution_count": 23,
   "id": "fd0ae334",
   "metadata": {
    "execution": {
     "iopub.execute_input": "2024-04-21T10:01:37.002605Z",
     "iopub.status.busy": "2024-04-21T10:01:37.002359Z",
     "iopub.status.idle": "2024-04-21T10:01:37.011600Z",
     "shell.execute_reply": "2024-04-21T10:01:37.010749Z"
    },
    "papermill": {
     "duration": 0.019238,
     "end_time": "2024-04-21T10:01:37.013529",
     "exception": false,
     "start_time": "2024-04-21T10:01:36.994291",
     "status": "completed"
    },
    "tags": []
   },
   "outputs": [],
   "source": [
    "def train_one_epoch():\n",
    "    \n",
    "    for i,(music) in enumerate(train_dataloader):\n",
    "    \n",
    "        noise_vectors = torch.randn(music.shape[0], latent_dim).to(device)\n",
    "        \n",
    "        zero_labels=torch.zeros((music.shape[0])).to(device).type(torch.int64)\n",
    "        one_labels=torch.ones((music.shape[0])).to(device).type(torch.int64)\n",
    "                \n",
    "        fake_music, argmax_output = generator(noise_vectors)\n",
    "        \n",
    "        pred=discriminator(fake_music)\n",
    "        \n",
    "        gloss=loss_fn(pred,one_labels)\n",
    "        \n",
    "        gopt.zero_grad()\n",
    "        gloss.backward()\n",
    "        gopt.step()\n",
    "        \n",
    "        \n",
    "        \n",
    "        real_music=music.to(device)\n",
    "        \n",
    "        \n",
    "        pred_on_real=discriminator(real_music)\n",
    "        dloss_on_real=loss_fn(pred_on_real,one_labels)\n",
    "        \n",
    "        pred_on_fake=discriminator(fake_music.detach())\n",
    "        dloss_on_fake=loss_fn(pred_on_fake,zero_labels)\n",
    "        \n",
    "        dloss=(dloss_on_real+dloss_on_fake)/2\n",
    "        \n",
    "        dopt.zero_grad()\n",
    "        dloss.backward()\n",
    "        dopt.step()\n",
    "        \n",
    "        if i%10 == 0:\n",
    "            \n",
    "            print(\"Batch No.:\", i+1,\"/\",len(train_dataloader),\":\", \"GLoss=\",round(gloss.item(),4), \"DLoss=\",round(dloss.item(),4))"
   ]
  },
  {
   "cell_type": "code",
   "execution_count": 24,
   "id": "f03d7e73",
   "metadata": {
    "execution": {
     "iopub.execute_input": "2024-04-21T10:01:37.029600Z",
     "iopub.status.busy": "2024-04-21T10:01:37.029359Z",
     "iopub.status.idle": "2024-04-21T10:02:07.098725Z",
     "shell.execute_reply": "2024-04-21T10:02:07.097714Z"
    },
    "papermill": {
     "duration": 30.080228,
     "end_time": "2024-04-21T10:02:07.101218",
     "exception": false,
     "start_time": "2024-04-21T10:01:37.020990",
     "status": "completed"
    },
    "tags": []
   },
   "outputs": [
    {
     "name": "stdout",
     "output_type": "stream",
     "text": [
      "Epoch 1 / 1 :\n",
      "Batch No.: 1 / 180 : GLoss= 0.7191 DLoss= 0.7223\n",
      "Batch No.: 11 / 180 : GLoss= 0.7144 DLoss= 0.6939\n",
      "Batch No.: 21 / 180 : GLoss= 0.71 DLoss= 0.6938\n",
      "Batch No.: 31 / 180 : GLoss= 0.6896 DLoss= 0.6933\n",
      "Batch No.: 41 / 180 : GLoss= 0.6874 DLoss= 0.6933\n",
      "Batch No.: 51 / 180 : GLoss= 0.6951 DLoss= 0.6932\n",
      "Batch No.: 61 / 180 : GLoss= 0.6952 DLoss= 0.6932\n",
      "Batch No.: 71 / 180 : GLoss= 0.6921 DLoss= 0.6932\n",
      "Batch No.: 81 / 180 : GLoss= 0.6929 DLoss= 0.6932\n",
      "Batch No.: 91 / 180 : GLoss= 0.6938 DLoss= 0.6932\n",
      "Batch No.: 101 / 180 : GLoss= 0.6931 DLoss= 0.6932\n",
      "Batch No.: 111 / 180 : GLoss= 0.693 DLoss= 0.6932\n",
      "Batch No.: 121 / 180 : GLoss= 0.6934 DLoss= 0.6932\n",
      "Batch No.: 131 / 180 : GLoss= 0.6932 DLoss= 0.6932\n",
      "Batch No.: 141 / 180 : GLoss= 0.6931 DLoss= 0.6932\n",
      "Batch No.: 151 / 180 : GLoss= 0.6932 DLoss= 0.6932\n",
      "Batch No.: 161 / 180 : GLoss= 0.6932 DLoss= 0.6932\n",
      "Batch No.: 171 / 180 : GLoss= 0.6931 DLoss= 0.6932\n"
     ]
    }
   ],
   "source": [
    "for e in range(n_epochs):\n",
    "    print(\"Epoch\",e+1,\"/\",n_epochs,\":\")\n",
    "    train_one_epoch()"
   ]
  },
  {
   "cell_type": "code",
   "execution_count": 25,
   "id": "c252b436",
   "metadata": {
    "execution": {
     "iopub.execute_input": "2024-04-21T10:02:07.121141Z",
     "iopub.status.busy": "2024-04-21T10:02:07.120776Z",
     "iopub.status.idle": "2024-04-21T10:02:07.189664Z",
     "shell.execute_reply": "2024-04-21T10:02:07.188966Z"
    },
    "papermill": {
     "duration": 0.080732,
     "end_time": "2024-04-21T10:02:07.191664",
     "exception": false,
     "start_time": "2024-04-21T10:02:07.110932",
     "status": "completed"
    },
    "tags": []
   },
   "outputs": [],
   "source": [
    "noise_vectors = torch.randn(2, latent_dim).to(device)\n",
    "fake_music, argmax_output = generator(noise_vectors)"
   ]
  },
  {
   "cell_type": "code",
   "execution_count": 26,
   "id": "d8cad67a",
   "metadata": {
    "execution": {
     "iopub.execute_input": "2024-04-21T10:02:07.210647Z",
     "iopub.status.busy": "2024-04-21T10:02:07.210369Z",
     "iopub.status.idle": "2024-04-21T10:02:07.219007Z",
     "shell.execute_reply": "2024-04-21T10:02:07.217972Z"
    },
    "papermill": {
     "duration": 0.020353,
     "end_time": "2024-04-21T10:02:07.220932",
     "exception": false,
     "start_time": "2024-04-21T10:02:07.200579",
     "status": "completed"
    },
    "tags": []
   },
   "outputs": [
    {
     "name": "stdout",
     "output_type": "stream",
     "text": [
      "pBBBBBBBBBBBBBBBBBBBBBBBBBBBBBBBBBBBBBBBBBBBBBBBBBBBBBBBBBBBBBBBBBBBBBBBBBBBBBBBBBBBBBBBBBBBBBBBBBBB \n",
      "\n",
      "\n",
      "pBBBBBBBBBBBBBBBBBBBBBBBBBBBBBBBBBBBBBBBBBBBBBBBBBBBBBBBBBBBBBBBBBBBBBBBBBBBBBBBBBBBBBBBBBBBBBBBBBBB \n",
      "\n",
      "\n"
     ]
    }
   ],
   "source": [
    "# Convert tensor to a list of lists of tokens\n",
    "music = []\n",
    "\n",
    "for row in argmax_output:\n",
    "    row_music = [index_to_token[i.item()] for i in row]\n",
    "    music.append(row_music)\n",
    "\n",
    "# Print the resulting music\n",
    "for row_music in music:\n",
    "    print(''.join(row_music), '\\n\\n')"
   ]
  },
  {
   "cell_type": "code",
   "execution_count": null,
   "id": "a2cc7e8a",
   "metadata": {
    "papermill": {
     "duration": 0.008788,
     "end_time": "2024-04-21T10:02:07.238718",
     "exception": false,
     "start_time": "2024-04-21T10:02:07.229930",
     "status": "completed"
    },
    "tags": []
   },
   "outputs": [],
   "source": []
  }
 ],
 "metadata": {
  "kaggle": {
   "accelerator": "gpu",
   "dataSources": [
    {
     "datasetId": 4653420,
     "sourceId": 7919173,
     "sourceType": "datasetVersion"
    }
   ],
   "dockerImageVersionId": 30648,
   "isGpuEnabled": true,
   "isInternetEnabled": true,
   "language": "python",
   "sourceType": "notebook"
  },
  "kernelspec": {
   "display_name": "Python 3",
   "language": "python",
   "name": "python3"
  },
  "language_info": {
   "codemirror_mode": {
    "name": "ipython",
    "version": 3
   },
   "file_extension": ".py",
   "mimetype": "text/x-python",
   "name": "python",
   "nbconvert_exporter": "python",
   "pygments_lexer": "ipython3",
   "version": "3.10.13"
  },
  "papermill": {
   "default_parameters": {},
   "duration": 69.235497,
   "end_time": "2024-04-21T10:02:09.966326",
   "environment_variables": {},
   "exception": null,
   "input_path": "__notebook__.ipynb",
   "output_path": "__notebook__.ipynb",
   "parameters": {},
   "start_time": "2024-04-21T10:01:00.730829",
   "version": "2.5.0"
  }
 },
 "nbformat": 4,
 "nbformat_minor": 5
}
