{
 "cells": [
  {
   "cell_type": "code",
   "execution_count": 1,
   "id": "eb9c024a",
   "metadata": {
    "_cell_guid": "b1076dfc-b9ad-4769-8c92-a6c4dae69d19",
    "_uuid": "8f2839f25d086af736a60e9eeb907d3b93b6e0e5",
    "execution": {
     "iopub.execute_input": "2024-04-18T10:00:27.936669Z",
     "iopub.status.busy": "2024-04-18T10:00:27.936328Z",
     "iopub.status.idle": "2024-04-18T10:00:28.841610Z",
     "shell.execute_reply": "2024-04-18T10:00:28.840696Z"
    },
    "papermill": {
     "duration": 0.920469,
     "end_time": "2024-04-18T10:00:28.843859",
     "exception": false,
     "start_time": "2024-04-18T10:00:27.923390",
     "status": "completed"
    },
    "tags": []
   },
   "outputs": [
    {
     "name": "stdout",
     "output_type": "stream",
     "text": [
      "/kaggle/input/piano-musics-abc-notation/piano-musics-abc-notation.txt\n"
     ]
    }
   ],
   "source": [
    "# This Python 3 environment comes with many helpful analytics libraries installed\n",
    "# It is defined by the kaggle/python Docker image: https://github.com/kaggle/docker-python\n",
    "# For example, here's several helpful packages to load\n",
    "\n",
    "import numpy as np # linear algebra\n",
    "import pandas as pd # data processing, CSV file I/O (e.g. pd.read_csv)\n",
    "\n",
    "# Input data files are available in the read-only \"../input/\" directory\n",
    "# For example, running this (by clicking run or pressing Shift+Enter) will list all files under the input directory\n",
    "\n",
    "import os\n",
    "for dirname, _, filenames in os.walk('/kaggle/input'):\n",
    "    for filename in filenames:\n",
    "        print(os.path.join(dirname, filename))\n",
    "\n",
    "# You can write up to 20GB to the current directory (/kaggle/working/) that gets preserved as output when you create a version using \"Save & Run All\" \n",
    "# You can also write temporary files to /kaggle/temp/, but they won't be saved outside of the current session"
   ]
  },
  {
   "cell_type": "code",
   "execution_count": 2,
   "id": "4c913021",
   "metadata": {
    "execution": {
     "iopub.execute_input": "2024-04-18T10:00:28.867086Z",
     "iopub.status.busy": "2024-04-18T10:00:28.866671Z",
     "iopub.status.idle": "2024-04-18T10:00:42.568353Z",
     "shell.execute_reply": "2024-04-18T10:00:42.567442Z"
    },
    "papermill": {
     "duration": 13.716075,
     "end_time": "2024-04-18T10:00:42.570785",
     "exception": false,
     "start_time": "2024-04-18T10:00:28.854710",
     "status": "completed"
    },
    "tags": []
   },
   "outputs": [
    {
     "name": "stderr",
     "output_type": "stream",
     "text": [
      "2024-04-18 10:00:31.237708: E external/local_xla/xla/stream_executor/cuda/cuda_dnn.cc:9261] Unable to register cuDNN factory: Attempting to register factory for plugin cuDNN when one has already been registered\n",
      "2024-04-18 10:00:31.237814: E external/local_xla/xla/stream_executor/cuda/cuda_fft.cc:607] Unable to register cuFFT factory: Attempting to register factory for plugin cuFFT when one has already been registered\n",
      "2024-04-18 10:00:31.413431: E external/local_xla/xla/stream_executor/cuda/cuda_blas.cc:1515] Unable to register cuBLAS factory: Attempting to register factory for plugin cuBLAS when one has already been registered\n"
     ]
    }
   ],
   "source": [
    "import numpy as np\n",
    "from keras.models import Sequential\n",
    "from keras.layers import LSTM, Dense\n",
    "import random\n",
    "\n",
    "file_path = '/kaggle/input/piano-musics-abc-notation/piano-musics-abc-notation.txt'\n",
    "with open(file_path, 'r') as file:\n",
    "    abc_data = file.read()"
   ]
  },
  {
   "cell_type": "code",
   "execution_count": 3,
   "id": "ef84f2e9",
   "metadata": {
    "execution": {
     "iopub.execute_input": "2024-04-18T10:00:42.596571Z",
     "iopub.status.busy": "2024-04-18T10:00:42.596000Z",
     "iopub.status.idle": "2024-04-18T10:00:42.600566Z",
     "shell.execute_reply": "2024-04-18T10:00:42.599607Z"
    },
    "papermill": {
     "duration": 0.01986,
     "end_time": "2024-04-18T10:00:42.602786",
     "exception": false,
     "start_time": "2024-04-18T10:00:42.582926",
     "status": "completed"
    },
    "tags": []
   },
   "outputs": [],
   "source": [
    "# abc_data"
   ]
  },
  {
   "cell_type": "code",
   "execution_count": 4,
   "id": "a8c16774",
   "metadata": {
    "execution": {
     "iopub.execute_input": "2024-04-18T10:00:42.629527Z",
     "iopub.status.busy": "2024-04-18T10:00:42.629237Z",
     "iopub.status.idle": "2024-04-18T10:00:42.651473Z",
     "shell.execute_reply": "2024-04-18T10:00:42.650603Z"
    },
    "papermill": {
     "duration": 0.037404,
     "end_time": "2024-04-18T10:00:42.653411",
     "exception": false,
     "start_time": "2024-04-18T10:00:42.616007",
     "status": "completed"
    },
    "tags": []
   },
   "outputs": [],
   "source": [
    "tokens = sorted(set(abc_data))\n",
    "num_tokens = len(tokens)\n",
    "token_to_index = {token: i for i, token in enumerate(tokens)}\n",
    "index_to_token = {i: token for token, i in token_to_index.items()}"
   ]
  },
  {
   "cell_type": "code",
   "execution_count": 5,
   "id": "d08cc3b3",
   "metadata": {
    "execution": {
     "iopub.execute_input": "2024-04-18T10:00:42.677132Z",
     "iopub.status.busy": "2024-04-18T10:00:42.676804Z",
     "iopub.status.idle": "2024-04-18T10:00:42.680636Z",
     "shell.execute_reply": "2024-04-18T10:00:42.679645Z"
    },
    "papermill": {
     "duration": 0.018186,
     "end_time": "2024-04-18T10:00:42.682677",
     "exception": false,
     "start_time": "2024-04-18T10:00:42.664491",
     "status": "completed"
    },
    "tags": []
   },
   "outputs": [],
   "source": [
    "# abc_data = abc_data[0: 20]"
   ]
  },
  {
   "cell_type": "code",
   "execution_count": 6,
   "id": "ec3b4119",
   "metadata": {
    "execution": {
     "iopub.execute_input": "2024-04-18T10:00:42.705679Z",
     "iopub.status.busy": "2024-04-18T10:00:42.705004Z",
     "iopub.status.idle": "2024-04-18T10:00:42.708838Z",
     "shell.execute_reply": "2024-04-18T10:00:42.708013Z"
    },
    "papermill": {
     "duration": 0.017225,
     "end_time": "2024-04-18T10:00:42.710702",
     "exception": false,
     "start_time": "2024-04-18T10:00:42.693477",
     "status": "completed"
    },
    "tags": []
   },
   "outputs": [],
   "source": [
    "# abc_data"
   ]
  },
  {
   "cell_type": "code",
   "execution_count": null,
   "id": "1bd3612a",
   "metadata": {
    "papermill": {
     "duration": 0.010477,
     "end_time": "2024-04-18T10:00:42.732066",
     "exception": false,
     "start_time": "2024-04-18T10:00:42.721589",
     "status": "completed"
    },
    "tags": []
   },
   "outputs": [],
   "source": []
  },
  {
   "cell_type": "code",
   "execution_count": 7,
   "id": "5a43c941",
   "metadata": {
    "execution": {
     "iopub.execute_input": "2024-04-18T10:00:42.755572Z",
     "iopub.status.busy": "2024-04-18T10:00:42.755014Z",
     "iopub.status.idle": "2024-04-18T10:00:56.926137Z",
     "shell.execute_reply": "2024-04-18T10:00:56.925193Z"
    },
    "papermill": {
     "duration": 14.185734,
     "end_time": "2024-04-18T10:00:56.928629",
     "exception": false,
     "start_time": "2024-04-18T10:00:42.742895",
     "status": "completed"
    },
    "tags": []
   },
   "outputs": [],
   "source": [
    "SEQ_LENGTH = 100\n",
    "STEP = 1\n",
    "sequences = []\n",
    "next_tokens = []\n",
    "\n",
    "for i in range(0, len(abc_data) - SEQ_LENGTH, STEP):\n",
    "    sequences.append([token_to_index[token] for token in abc_data[i:i + SEQ_LENGTH]])\n",
    "    next_tokens.append(token_to_index[abc_data[i + SEQ_LENGTH]])"
   ]
  },
  {
   "cell_type": "code",
   "execution_count": 8,
   "id": "5e650a25",
   "metadata": {
    "execution": {
     "iopub.execute_input": "2024-04-18T10:00:56.953152Z",
     "iopub.status.busy": "2024-04-18T10:00:56.952305Z",
     "iopub.status.idle": "2024-04-18T10:00:56.959252Z",
     "shell.execute_reply": "2024-04-18T10:00:56.958402Z"
    },
    "papermill": {
     "duration": 0.020789,
     "end_time": "2024-04-18T10:00:56.961074",
     "exception": false,
     "start_time": "2024-04-18T10:00:56.940285",
     "status": "completed"
    },
    "tags": []
   },
   "outputs": [
    {
     "data": {
      "text/plain": [
       "1147236"
      ]
     },
     "execution_count": 8,
     "metadata": {},
     "output_type": "execute_result"
    }
   ],
   "source": [
    "len(sequences)"
   ]
  },
  {
   "cell_type": "code",
   "execution_count": 9,
   "id": "a9da43b6",
   "metadata": {
    "execution": {
     "iopub.execute_input": "2024-04-18T10:00:56.983371Z",
     "iopub.status.busy": "2024-04-18T10:00:56.983110Z",
     "iopub.status.idle": "2024-04-18T10:00:56.988134Z",
     "shell.execute_reply": "2024-04-18T10:00:56.987318Z"
    },
    "papermill": {
     "duration": 0.018268,
     "end_time": "2024-04-18T10:00:56.990036",
     "exception": false,
     "start_time": "2024-04-18T10:00:56.971768",
     "status": "completed"
    },
    "tags": []
   },
   "outputs": [
    {
     "data": {
      "text/plain": [
       "1147236"
      ]
     },
     "execution_count": 9,
     "metadata": {},
     "output_type": "execute_result"
    }
   ],
   "source": [
    "len(next_tokens)"
   ]
  },
  {
   "cell_type": "code",
   "execution_count": 10,
   "id": "9e045e24",
   "metadata": {
    "execution": {
     "iopub.execute_input": "2024-04-18T10:00:57.012282Z",
     "iopub.status.busy": "2024-04-18T10:00:57.012037Z",
     "iopub.status.idle": "2024-04-18T10:01:07.666843Z",
     "shell.execute_reply": "2024-04-18T10:01:07.665914Z"
    },
    "papermill": {
     "duration": 10.668083,
     "end_time": "2024-04-18T10:01:07.668747",
     "exception": false,
     "start_time": "2024-04-18T10:00:57.000664",
     "status": "completed"
    },
    "tags": []
   },
   "outputs": [],
   "source": [
    "# # Vectorize the sequences\n",
    "# X = np.zeros((len(sequences), SEQ_LENGTH, num_tokens), dtype=bool)\n",
    "# y = np.zeros((len(sequences), num_tokens), dtype=bool)\n",
    "# for i, sequence in enumerate(sequences):\n",
    "#     for t, token in enumerate(sequence):\n",
    "#         X[i, t, token_to_index[token]] = 1\n",
    "#     y[i, token_to_index[next_tokens[i]]] = 1\n",
    "\n",
    "X = np.array(sequences)\n",
    "y = np.array(next_tokens)"
   ]
  },
  {
   "cell_type": "code",
   "execution_count": 11,
   "id": "b2ce678a",
   "metadata": {
    "execution": {
     "iopub.execute_input": "2024-04-18T10:01:07.691850Z",
     "iopub.status.busy": "2024-04-18T10:01:07.691555Z",
     "iopub.status.idle": "2024-04-18T10:01:07.697424Z",
     "shell.execute_reply": "2024-04-18T10:01:07.696594Z"
    },
    "papermill": {
     "duration": 0.019592,
     "end_time": "2024-04-18T10:01:07.699307",
     "exception": false,
     "start_time": "2024-04-18T10:01:07.679715",
     "status": "completed"
    },
    "tags": []
   },
   "outputs": [
    {
     "data": {
      "text/plain": [
       "(1147236, 100)"
      ]
     },
     "execution_count": 11,
     "metadata": {},
     "output_type": "execute_result"
    }
   ],
   "source": [
    "X.shape"
   ]
  },
  {
   "cell_type": "code",
   "execution_count": 12,
   "id": "27b7b7a1",
   "metadata": {
    "execution": {
     "iopub.execute_input": "2024-04-18T10:01:07.722311Z",
     "iopub.status.busy": "2024-04-18T10:01:07.722028Z",
     "iopub.status.idle": "2024-04-18T10:01:07.727526Z",
     "shell.execute_reply": "2024-04-18T10:01:07.726634Z"
    },
    "papermill": {
     "duration": 0.019484,
     "end_time": "2024-04-18T10:01:07.729570",
     "exception": false,
     "start_time": "2024-04-18T10:01:07.710086",
     "status": "completed"
    },
    "tags": []
   },
   "outputs": [
    {
     "data": {
      "text/plain": [
       "(1147236,)"
      ]
     },
     "execution_count": 12,
     "metadata": {},
     "output_type": "execute_result"
    }
   ],
   "source": [
    "y.shape"
   ]
  },
  {
   "cell_type": "code",
   "execution_count": 13,
   "id": "c42a6d39",
   "metadata": {
    "execution": {
     "iopub.execute_input": "2024-04-18T10:01:07.752834Z",
     "iopub.status.busy": "2024-04-18T10:01:07.752582Z",
     "iopub.status.idle": "2024-04-18T10:01:07.758054Z",
     "shell.execute_reply": "2024-04-18T10:01:07.757159Z"
    },
    "papermill": {
     "duration": 0.019295,
     "end_time": "2024-04-18T10:01:07.760041",
     "exception": false,
     "start_time": "2024-04-18T10:01:07.740746",
     "status": "completed"
    },
    "tags": []
   },
   "outputs": [
    {
     "data": {
      "text/plain": [
       "86"
      ]
     },
     "execution_count": 13,
     "metadata": {},
     "output_type": "execute_result"
    }
   ],
   "source": [
    "num_tokens"
   ]
  },
  {
   "cell_type": "code",
   "execution_count": 14,
   "id": "8187b34b",
   "metadata": {
    "execution": {
     "iopub.execute_input": "2024-04-18T10:01:07.782814Z",
     "iopub.status.busy": "2024-04-18T10:01:07.782556Z",
     "iopub.status.idle": "2024-04-18T10:01:07.823418Z",
     "shell.execute_reply": "2024-04-18T10:01:07.822204Z"
    },
    "papermill": {
     "duration": 0.05447,
     "end_time": "2024-04-18T10:01:07.825562",
     "exception": false,
     "start_time": "2024-04-18T10:01:07.771092",
     "status": "completed"
    },
    "tags": []
   },
   "outputs": [
    {
     "name": "stdout",
     "output_type": "stream",
     "text": [
      "Unique Values: [ 0  1  2  3  4  5  6  7  8  9 10 11 12 13 14 15 16 17 18 19 20 21 22 23\n",
      " 24 25 26 27 28 29 30 31 32 33 34 35 36 37 38 39 40 41 42 43 44 45 46 47\n",
      " 48 49 50 51 52 53 54 55 56 57 58 59 60 61 62 63 64 65 66 67 68 69 70 71\n",
      " 72 73 74 75 76 77 78 79 80 81 82 83 84 85]\n",
      "Counts: [  8886 200009     65  25772    136    729  35675  29311      4     84\n",
      "   1597   2930  10144  24231   3375   3711  62674  15441   5026   1324\n",
      "   1810   3346   1148   1017   6216   9262   4175  29004      1  65002\n",
      "  55861   2775  19911  18980  25496  49738    607     10      6     13\n",
      "     78     11      9     84      6    191   1171      1      4      1\n",
      "      3     12    468   3115   1061   4075   4241  26759  10563  50470\n",
      "  66645  49177  40392  33796   2964   4358    893    162   4495   2115\n",
      "   1130    600    586   2317    810    938     64     18    539     71\n",
      "     37   2617   4028  95360   4026   1273]\n"
     ]
    }
   ],
   "source": [
    "unique_values, counts = np.unique(y, return_counts=True)\n",
    "print(\"Unique Values:\", unique_values)\n",
    "print(\"Counts:\", counts)"
   ]
  },
  {
   "cell_type": "code",
   "execution_count": 15,
   "id": "47b61974",
   "metadata": {
    "execution": {
     "iopub.execute_input": "2024-04-18T10:01:07.850344Z",
     "iopub.status.busy": "2024-04-18T10:01:07.849773Z",
     "iopub.status.idle": "2024-04-18T10:01:08.773998Z",
     "shell.execute_reply": "2024-04-18T10:01:08.773144Z"
    },
    "papermill": {
     "duration": 0.939333,
     "end_time": "2024-04-18T10:01:08.776379",
     "exception": false,
     "start_time": "2024-04-18T10:01:07.837046",
     "status": "completed"
    },
    "tags": []
   },
   "outputs": [],
   "source": [
    "from sklearn.preprocessing import OneHotEncoder"
   ]
  },
  {
   "cell_type": "code",
   "execution_count": 16,
   "id": "d55cc9e0",
   "metadata": {
    "execution": {
     "iopub.execute_input": "2024-04-18T10:01:08.801479Z",
     "iopub.status.busy": "2024-04-18T10:01:08.800943Z",
     "iopub.status.idle": "2024-04-18T10:01:09.897956Z",
     "shell.execute_reply": "2024-04-18T10:01:09.897129Z"
    },
    "papermill": {
     "duration": 1.111883,
     "end_time": "2024-04-18T10:01:09.900412",
     "exception": false,
     "start_time": "2024-04-18T10:01:08.788529",
     "status": "completed"
    },
    "tags": []
   },
   "outputs": [],
   "source": [
    "encoder = OneHotEncoder(categories=[range(num_tokens)], sparse_output=False)\n",
    "y_encoded = encoder.fit_transform(y.reshape(-1, 1))"
   ]
  },
  {
   "cell_type": "code",
   "execution_count": 17,
   "id": "42966c3f",
   "metadata": {
    "execution": {
     "iopub.execute_input": "2024-04-18T10:01:09.925377Z",
     "iopub.status.busy": "2024-04-18T10:01:09.925093Z",
     "iopub.status.idle": "2024-04-18T10:01:09.930980Z",
     "shell.execute_reply": "2024-04-18T10:01:09.930074Z"
    },
    "papermill": {
     "duration": 0.02061,
     "end_time": "2024-04-18T10:01:09.932915",
     "exception": false,
     "start_time": "2024-04-18T10:01:09.912305",
     "status": "completed"
    },
    "tags": []
   },
   "outputs": [
    {
     "data": {
      "text/plain": [
       "(1147236, 86)"
      ]
     },
     "execution_count": 17,
     "metadata": {},
     "output_type": "execute_result"
    }
   ],
   "source": [
    "y_encoded.shape"
   ]
  },
  {
   "cell_type": "code",
   "execution_count": 18,
   "id": "803b4f3b",
   "metadata": {
    "execution": {
     "iopub.execute_input": "2024-04-18T10:01:09.957792Z",
     "iopub.status.busy": "2024-04-18T10:01:09.957535Z",
     "iopub.status.idle": "2024-04-18T10:01:09.962815Z",
     "shell.execute_reply": "2024-04-18T10:01:09.962032Z"
    },
    "papermill": {
     "duration": 0.019913,
     "end_time": "2024-04-18T10:01:09.964727",
     "exception": false,
     "start_time": "2024-04-18T10:01:09.944814",
     "status": "completed"
    },
    "tags": []
   },
   "outputs": [
    {
     "data": {
      "text/plain": [
       "86"
      ]
     },
     "execution_count": 18,
     "metadata": {},
     "output_type": "execute_result"
    }
   ],
   "source": [
    "num_tokens"
   ]
  },
  {
   "cell_type": "code",
   "execution_count": 19,
   "id": "37fa6dba",
   "metadata": {
    "execution": {
     "iopub.execute_input": "2024-04-18T10:01:09.989239Z",
     "iopub.status.busy": "2024-04-18T10:01:09.988984Z",
     "iopub.status.idle": "2024-04-18T10:01:10.872018Z",
     "shell.execute_reply": "2024-04-18T10:01:10.871030Z"
    },
    "papermill": {
     "duration": 0.897744,
     "end_time": "2024-04-18T10:01:10.874325",
     "exception": false,
     "start_time": "2024-04-18T10:01:09.976581",
     "status": "completed"
    },
    "tags": []
   },
   "outputs": [],
   "source": [
    "import numpy as np\n",
    "from keras.models import Sequential\n",
    "from keras.layers import BatchNormalization, Flatten, LSTM, Dense, Embedding, Dropout, TimeDistributed, Activation\n",
    "import random\n",
    "\n",
    "model = Sequential()\n",
    "model.add(Embedding(input_dim=86, output_dim=100))\n",
    "\n",
    "for i in range(3):\n",
    "    model.add(LSTM(256, return_sequences=True))\n",
    "    model.add(BatchNormalization())\n",
    "#     model.add(Dropout(0.2))\n",
    "    \n",
    "    \n",
    "model.add(Dense(num_tokens)) \n",
    "model.add(BatchNormalization())\n",
    "model.add(Flatten())\n",
    "model.add(Dense(num_tokens))\n",
    "model.add(BatchNormalization())\n",
    "model.add(Activation('softmax'))\n",
    "\n",
    "# Compile the model\n",
    "model.compile(loss='categorical_crossentropy', optimizer='adam')\n",
    "\n",
    "# Train the model"
   ]
  },
  {
   "cell_type": "code",
   "execution_count": 20,
   "id": "aed2990b",
   "metadata": {
    "execution": {
     "iopub.execute_input": "2024-04-18T10:01:10.909385Z",
     "iopub.status.busy": "2024-04-18T10:01:10.908225Z",
     "iopub.status.idle": "2024-04-18T12:47:22.439207Z",
     "shell.execute_reply": "2024-04-18T12:47:22.438300Z"
    },
    "papermill": {
     "duration": 9971.553686,
     "end_time": "2024-04-18T12:47:22.441344",
     "exception": false,
     "start_time": "2024-04-18T10:01:10.887658",
     "status": "completed"
    },
    "tags": []
   },
   "outputs": [
    {
     "name": "stdout",
     "output_type": "stream",
     "text": [
      "Epoch 1/20\n",
      "\u001b[1m8963/8963\u001b[0m \u001b[32m━━━━━━━━━━━━━━━━━━━━\u001b[0m\u001b[37m\u001b[0m \u001b[1m498s\u001b[0m 55ms/step - loss: 1.9848\n",
      "Epoch 2/20\n",
      "\u001b[1m8963/8963\u001b[0m \u001b[32m━━━━━━━━━━━━━━━━━━━━\u001b[0m\u001b[37m\u001b[0m \u001b[1m496s\u001b[0m 55ms/step - loss: 1.0313\n",
      "Epoch 3/20\n",
      "\u001b[1m8963/8963\u001b[0m \u001b[32m━━━━━━━━━━━━━━━━━━━━\u001b[0m\u001b[37m\u001b[0m \u001b[1m495s\u001b[0m 55ms/step - loss: 0.8526\n",
      "Epoch 4/20\n",
      "\u001b[1m8963/8963\u001b[0m \u001b[32m━━━━━━━━━━━━━━━━━━━━\u001b[0m\u001b[37m\u001b[0m \u001b[1m495s\u001b[0m 55ms/step - loss: 0.7156\n",
      "Epoch 5/20\n",
      "\u001b[1m8963/8963\u001b[0m \u001b[32m━━━━━━━━━━━━━━━━━━━━\u001b[0m\u001b[37m\u001b[0m \u001b[1m494s\u001b[0m 55ms/step - loss: 0.5988\n",
      "Epoch 6/20\n",
      "\u001b[1m8963/8963\u001b[0m \u001b[32m━━━━━━━━━━━━━━━━━━━━\u001b[0m\u001b[37m\u001b[0m \u001b[1m495s\u001b[0m 55ms/step - loss: 0.5045\n",
      "Epoch 7/20\n",
      "\u001b[1m8963/8963\u001b[0m \u001b[32m━━━━━━━━━━━━━━━━━━━━\u001b[0m\u001b[37m\u001b[0m \u001b[1m496s\u001b[0m 55ms/step - loss: 0.4323\n",
      "Epoch 8/20\n",
      "\u001b[1m8963/8963\u001b[0m \u001b[32m━━━━━━━━━━━━━━━━━━━━\u001b[0m\u001b[37m\u001b[0m \u001b[1m497s\u001b[0m 55ms/step - loss: 0.3773\n",
      "Epoch 9/20\n",
      "\u001b[1m8963/8963\u001b[0m \u001b[32m━━━━━━━━━━━━━━━━━━━━\u001b[0m\u001b[37m\u001b[0m \u001b[1m499s\u001b[0m 56ms/step - loss: 0.3296\n",
      "Epoch 10/20\n",
      "\u001b[1m8963/8963\u001b[0m \u001b[32m━━━━━━━━━━━━━━━━━━━━\u001b[0m\u001b[37m\u001b[0m \u001b[1m500s\u001b[0m 56ms/step - loss: 0.2947\n",
      "Epoch 11/20\n",
      "\u001b[1m8963/8963\u001b[0m \u001b[32m━━━━━━━━━━━━━━━━━━━━\u001b[0m\u001b[37m\u001b[0m \u001b[1m500s\u001b[0m 56ms/step - loss: 0.2695\n",
      "Epoch 12/20\n",
      "\u001b[1m8963/8963\u001b[0m \u001b[32m━━━━━━━━━━━━━━━━━━━━\u001b[0m\u001b[37m\u001b[0m \u001b[1m500s\u001b[0m 56ms/step - loss: 0.2456\n",
      "Epoch 13/20\n",
      "\u001b[1m8963/8963\u001b[0m \u001b[32m━━━━━━━━━━━━━━━━━━━━\u001b[0m\u001b[37m\u001b[0m \u001b[1m500s\u001b[0m 56ms/step - loss: 0.2292\n",
      "Epoch 14/20\n",
      "\u001b[1m8963/8963\u001b[0m \u001b[32m━━━━━━━━━━━━━━━━━━━━\u001b[0m\u001b[37m\u001b[0m \u001b[1m500s\u001b[0m 56ms/step - loss: 0.2138\n",
      "Epoch 15/20\n",
      "\u001b[1m8963/8963\u001b[0m \u001b[32m━━━━━━━━━━━━━━━━━━━━\u001b[0m\u001b[37m\u001b[0m \u001b[1m501s\u001b[0m 56ms/step - loss: 0.2042\n",
      "Epoch 16/20\n",
      "\u001b[1m8963/8963\u001b[0m \u001b[32m━━━━━━━━━━━━━━━━━━━━\u001b[0m\u001b[37m\u001b[0m \u001b[1m501s\u001b[0m 56ms/step - loss: 0.1913\n",
      "Epoch 17/20\n",
      "\u001b[1m8963/8963\u001b[0m \u001b[32m━━━━━━━━━━━━━━━━━━━━\u001b[0m\u001b[37m\u001b[0m \u001b[1m501s\u001b[0m 56ms/step - loss: 0.1838\n",
      "Epoch 18/20\n",
      "\u001b[1m8963/8963\u001b[0m \u001b[32m━━━━━━━━━━━━━━━━━━━━\u001b[0m\u001b[37m\u001b[0m \u001b[1m501s\u001b[0m 56ms/step - loss: 0.1747\n",
      "Epoch 19/20\n",
      "\u001b[1m8963/8963\u001b[0m \u001b[32m━━━━━━━━━━━━━━━━━━━━\u001b[0m\u001b[37m\u001b[0m \u001b[1m500s\u001b[0m 56ms/step - loss: 0.1680\n",
      "Epoch 20/20\n",
      "\u001b[1m8963/8963\u001b[0m \u001b[32m━━━━━━━━━━━━━━━━━━━━\u001b[0m\u001b[37m\u001b[0m \u001b[1m500s\u001b[0m 56ms/step - loss: 0.1637\n"
     ]
    },
    {
     "data": {
      "text/plain": [
       "<keras.src.callbacks.history.History at 0x7fe71ceba9b0>"
      ]
     },
     "execution_count": 20,
     "metadata": {},
     "output_type": "execute_result"
    }
   ],
   "source": [
    "model.fit(X, y_encoded, batch_size=128, epochs=20)"
   ]
  },
  {
   "cell_type": "code",
   "execution_count": 21,
   "id": "0b4e29f3",
   "metadata": {
    "execution": {
     "iopub.execute_input": "2024-04-18T12:47:52.997974Z",
     "iopub.status.busy": "2024-04-18T12:47:52.997594Z",
     "iopub.status.idle": "2024-04-18T12:47:53.027908Z",
     "shell.execute_reply": "2024-04-18T12:47:53.027039Z"
    },
    "papermill": {
     "duration": 15.152423,
     "end_time": "2024-04-18T12:47:53.029905",
     "exception": false,
     "start_time": "2024-04-18T12:47:37.877482",
     "status": "completed"
    },
    "tags": []
   },
   "outputs": [
    {
     "data": {
      "text/html": [
       "<pre style=\"white-space:pre;overflow-x:auto;line-height:normal;font-family:Menlo,'DejaVu Sans Mono',consolas,'Courier New',monospace\"><span style=\"font-weight: bold\">Model: \"sequential\"</span>\n",
       "</pre>\n"
      ],
      "text/plain": [
       "\u001b[1mModel: \"sequential\"\u001b[0m\n"
      ]
     },
     "metadata": {},
     "output_type": "display_data"
    },
    {
     "data": {
      "text/html": [
       "<pre style=\"white-space:pre;overflow-x:auto;line-height:normal;font-family:Menlo,'DejaVu Sans Mono',consolas,'Courier New',monospace\">┏━━━━━━━━━━━━━━━━━━━━━━━━━━━━━━━━━┳━━━━━━━━━━━━━━━━━━━━━━━━┳━━━━━━━━━━━━━━━┓\n",
       "┃<span style=\"font-weight: bold\"> Layer (type)                    </span>┃<span style=\"font-weight: bold\"> Output Shape           </span>┃<span style=\"font-weight: bold\">       Param # </span>┃\n",
       "┡━━━━━━━━━━━━━━━━━━━━━━━━━━━━━━━━━╇━━━━━━━━━━━━━━━━━━━━━━━━╇━━━━━━━━━━━━━━━┩\n",
       "│ embedding (<span style=\"color: #0087ff; text-decoration-color: #0087ff\">Embedding</span>)           │ (<span style=\"color: #00d7ff; text-decoration-color: #00d7ff\">None</span>, <span style=\"color: #00af00; text-decoration-color: #00af00\">100</span>, <span style=\"color: #00af00; text-decoration-color: #00af00\">100</span>)       │         <span style=\"color: #00af00; text-decoration-color: #00af00\">8,600</span> │\n",
       "├─────────────────────────────────┼────────────────────────┼───────────────┤\n",
       "│ lstm (<span style=\"color: #0087ff; text-decoration-color: #0087ff\">LSTM</span>)                     │ (<span style=\"color: #00d7ff; text-decoration-color: #00d7ff\">None</span>, <span style=\"color: #00af00; text-decoration-color: #00af00\">100</span>, <span style=\"color: #00af00; text-decoration-color: #00af00\">256</span>)       │       <span style=\"color: #00af00; text-decoration-color: #00af00\">365,568</span> │\n",
       "├─────────────────────────────────┼────────────────────────┼───────────────┤\n",
       "│ batch_normalization             │ (<span style=\"color: #00d7ff; text-decoration-color: #00d7ff\">None</span>, <span style=\"color: #00af00; text-decoration-color: #00af00\">100</span>, <span style=\"color: #00af00; text-decoration-color: #00af00\">256</span>)       │         <span style=\"color: #00af00; text-decoration-color: #00af00\">1,024</span> │\n",
       "│ (<span style=\"color: #0087ff; text-decoration-color: #0087ff\">BatchNormalization</span>)            │                        │               │\n",
       "├─────────────────────────────────┼────────────────────────┼───────────────┤\n",
       "│ lstm_1 (<span style=\"color: #0087ff; text-decoration-color: #0087ff\">LSTM</span>)                   │ (<span style=\"color: #00d7ff; text-decoration-color: #00d7ff\">None</span>, <span style=\"color: #00af00; text-decoration-color: #00af00\">100</span>, <span style=\"color: #00af00; text-decoration-color: #00af00\">256</span>)       │       <span style=\"color: #00af00; text-decoration-color: #00af00\">525,312</span> │\n",
       "├─────────────────────────────────┼────────────────────────┼───────────────┤\n",
       "│ batch_normalization_1           │ (<span style=\"color: #00d7ff; text-decoration-color: #00d7ff\">None</span>, <span style=\"color: #00af00; text-decoration-color: #00af00\">100</span>, <span style=\"color: #00af00; text-decoration-color: #00af00\">256</span>)       │         <span style=\"color: #00af00; text-decoration-color: #00af00\">1,024</span> │\n",
       "│ (<span style=\"color: #0087ff; text-decoration-color: #0087ff\">BatchNormalization</span>)            │                        │               │\n",
       "├─────────────────────────────────┼────────────────────────┼───────────────┤\n",
       "│ lstm_2 (<span style=\"color: #0087ff; text-decoration-color: #0087ff\">LSTM</span>)                   │ (<span style=\"color: #00d7ff; text-decoration-color: #00d7ff\">None</span>, <span style=\"color: #00af00; text-decoration-color: #00af00\">100</span>, <span style=\"color: #00af00; text-decoration-color: #00af00\">256</span>)       │       <span style=\"color: #00af00; text-decoration-color: #00af00\">525,312</span> │\n",
       "├─────────────────────────────────┼────────────────────────┼───────────────┤\n",
       "│ batch_normalization_2           │ (<span style=\"color: #00d7ff; text-decoration-color: #00d7ff\">None</span>, <span style=\"color: #00af00; text-decoration-color: #00af00\">100</span>, <span style=\"color: #00af00; text-decoration-color: #00af00\">256</span>)       │         <span style=\"color: #00af00; text-decoration-color: #00af00\">1,024</span> │\n",
       "│ (<span style=\"color: #0087ff; text-decoration-color: #0087ff\">BatchNormalization</span>)            │                        │               │\n",
       "├─────────────────────────────────┼────────────────────────┼───────────────┤\n",
       "│ dense (<span style=\"color: #0087ff; text-decoration-color: #0087ff\">Dense</span>)                   │ (<span style=\"color: #00d7ff; text-decoration-color: #00d7ff\">None</span>, <span style=\"color: #00af00; text-decoration-color: #00af00\">100</span>, <span style=\"color: #00af00; text-decoration-color: #00af00\">86</span>)        │        <span style=\"color: #00af00; text-decoration-color: #00af00\">22,102</span> │\n",
       "├─────────────────────────────────┼────────────────────────┼───────────────┤\n",
       "│ batch_normalization_3           │ (<span style=\"color: #00d7ff; text-decoration-color: #00d7ff\">None</span>, <span style=\"color: #00af00; text-decoration-color: #00af00\">100</span>, <span style=\"color: #00af00; text-decoration-color: #00af00\">86</span>)        │           <span style=\"color: #00af00; text-decoration-color: #00af00\">344</span> │\n",
       "│ (<span style=\"color: #0087ff; text-decoration-color: #0087ff\">BatchNormalization</span>)            │                        │               │\n",
       "├─────────────────────────────────┼────────────────────────┼───────────────┤\n",
       "│ flatten (<span style=\"color: #0087ff; text-decoration-color: #0087ff\">Flatten</span>)               │ (<span style=\"color: #00d7ff; text-decoration-color: #00d7ff\">None</span>, <span style=\"color: #00af00; text-decoration-color: #00af00\">8600</span>)           │             <span style=\"color: #00af00; text-decoration-color: #00af00\">0</span> │\n",
       "├─────────────────────────────────┼────────────────────────┼───────────────┤\n",
       "│ dense_1 (<span style=\"color: #0087ff; text-decoration-color: #0087ff\">Dense</span>)                 │ (<span style=\"color: #00d7ff; text-decoration-color: #00d7ff\">None</span>, <span style=\"color: #00af00; text-decoration-color: #00af00\">86</span>)             │       <span style=\"color: #00af00; text-decoration-color: #00af00\">739,686</span> │\n",
       "├─────────────────────────────────┼────────────────────────┼───────────────┤\n",
       "│ batch_normalization_4           │ (<span style=\"color: #00d7ff; text-decoration-color: #00d7ff\">None</span>, <span style=\"color: #00af00; text-decoration-color: #00af00\">86</span>)             │           <span style=\"color: #00af00; text-decoration-color: #00af00\">344</span> │\n",
       "│ (<span style=\"color: #0087ff; text-decoration-color: #0087ff\">BatchNormalization</span>)            │                        │               │\n",
       "├─────────────────────────────────┼────────────────────────┼───────────────┤\n",
       "│ activation (<span style=\"color: #0087ff; text-decoration-color: #0087ff\">Activation</span>)         │ (<span style=\"color: #00d7ff; text-decoration-color: #00d7ff\">None</span>, <span style=\"color: #00af00; text-decoration-color: #00af00\">86</span>)             │             <span style=\"color: #00af00; text-decoration-color: #00af00\">0</span> │\n",
       "└─────────────────────────────────┴────────────────────────┴───────────────┘\n",
       "</pre>\n"
      ],
      "text/plain": [
       "┏━━━━━━━━━━━━━━━━━━━━━━━━━━━━━━━━━┳━━━━━━━━━━━━━━━━━━━━━━━━┳━━━━━━━━━━━━━━━┓\n",
       "┃\u001b[1m \u001b[0m\u001b[1mLayer (type)                   \u001b[0m\u001b[1m \u001b[0m┃\u001b[1m \u001b[0m\u001b[1mOutput Shape          \u001b[0m\u001b[1m \u001b[0m┃\u001b[1m \u001b[0m\u001b[1m      Param #\u001b[0m\u001b[1m \u001b[0m┃\n",
       "┡━━━━━━━━━━━━━━━━━━━━━━━━━━━━━━━━━╇━━━━━━━━━━━━━━━━━━━━━━━━╇━━━━━━━━━━━━━━━┩\n",
       "│ embedding (\u001b[38;5;33mEmbedding\u001b[0m)           │ (\u001b[38;5;45mNone\u001b[0m, \u001b[38;5;34m100\u001b[0m, \u001b[38;5;34m100\u001b[0m)       │         \u001b[38;5;34m8,600\u001b[0m │\n",
       "├─────────────────────────────────┼────────────────────────┼───────────────┤\n",
       "│ lstm (\u001b[38;5;33mLSTM\u001b[0m)                     │ (\u001b[38;5;45mNone\u001b[0m, \u001b[38;5;34m100\u001b[0m, \u001b[38;5;34m256\u001b[0m)       │       \u001b[38;5;34m365,568\u001b[0m │\n",
       "├─────────────────────────────────┼────────────────────────┼───────────────┤\n",
       "│ batch_normalization             │ (\u001b[38;5;45mNone\u001b[0m, \u001b[38;5;34m100\u001b[0m, \u001b[38;5;34m256\u001b[0m)       │         \u001b[38;5;34m1,024\u001b[0m │\n",
       "│ (\u001b[38;5;33mBatchNormalization\u001b[0m)            │                        │               │\n",
       "├─────────────────────────────────┼────────────────────────┼───────────────┤\n",
       "│ lstm_1 (\u001b[38;5;33mLSTM\u001b[0m)                   │ (\u001b[38;5;45mNone\u001b[0m, \u001b[38;5;34m100\u001b[0m, \u001b[38;5;34m256\u001b[0m)       │       \u001b[38;5;34m525,312\u001b[0m │\n",
       "├─────────────────────────────────┼────────────────────────┼───────────────┤\n",
       "│ batch_normalization_1           │ (\u001b[38;5;45mNone\u001b[0m, \u001b[38;5;34m100\u001b[0m, \u001b[38;5;34m256\u001b[0m)       │         \u001b[38;5;34m1,024\u001b[0m │\n",
       "│ (\u001b[38;5;33mBatchNormalization\u001b[0m)            │                        │               │\n",
       "├─────────────────────────────────┼────────────────────────┼───────────────┤\n",
       "│ lstm_2 (\u001b[38;5;33mLSTM\u001b[0m)                   │ (\u001b[38;5;45mNone\u001b[0m, \u001b[38;5;34m100\u001b[0m, \u001b[38;5;34m256\u001b[0m)       │       \u001b[38;5;34m525,312\u001b[0m │\n",
       "├─────────────────────────────────┼────────────────────────┼───────────────┤\n",
       "│ batch_normalization_2           │ (\u001b[38;5;45mNone\u001b[0m, \u001b[38;5;34m100\u001b[0m, \u001b[38;5;34m256\u001b[0m)       │         \u001b[38;5;34m1,024\u001b[0m │\n",
       "│ (\u001b[38;5;33mBatchNormalization\u001b[0m)            │                        │               │\n",
       "├─────────────────────────────────┼────────────────────────┼───────────────┤\n",
       "│ dense (\u001b[38;5;33mDense\u001b[0m)                   │ (\u001b[38;5;45mNone\u001b[0m, \u001b[38;5;34m100\u001b[0m, \u001b[38;5;34m86\u001b[0m)        │        \u001b[38;5;34m22,102\u001b[0m │\n",
       "├─────────────────────────────────┼────────────────────────┼───────────────┤\n",
       "│ batch_normalization_3           │ (\u001b[38;5;45mNone\u001b[0m, \u001b[38;5;34m100\u001b[0m, \u001b[38;5;34m86\u001b[0m)        │           \u001b[38;5;34m344\u001b[0m │\n",
       "│ (\u001b[38;5;33mBatchNormalization\u001b[0m)            │                        │               │\n",
       "├─────────────────────────────────┼────────────────────────┼───────────────┤\n",
       "│ flatten (\u001b[38;5;33mFlatten\u001b[0m)               │ (\u001b[38;5;45mNone\u001b[0m, \u001b[38;5;34m8600\u001b[0m)           │             \u001b[38;5;34m0\u001b[0m │\n",
       "├─────────────────────────────────┼────────────────────────┼───────────────┤\n",
       "│ dense_1 (\u001b[38;5;33mDense\u001b[0m)                 │ (\u001b[38;5;45mNone\u001b[0m, \u001b[38;5;34m86\u001b[0m)             │       \u001b[38;5;34m739,686\u001b[0m │\n",
       "├─────────────────────────────────┼────────────────────────┼───────────────┤\n",
       "│ batch_normalization_4           │ (\u001b[38;5;45mNone\u001b[0m, \u001b[38;5;34m86\u001b[0m)             │           \u001b[38;5;34m344\u001b[0m │\n",
       "│ (\u001b[38;5;33mBatchNormalization\u001b[0m)            │                        │               │\n",
       "├─────────────────────────────────┼────────────────────────┼───────────────┤\n",
       "│ activation (\u001b[38;5;33mActivation\u001b[0m)         │ (\u001b[38;5;45mNone\u001b[0m, \u001b[38;5;34m86\u001b[0m)             │             \u001b[38;5;34m0\u001b[0m │\n",
       "└─────────────────────────────────┴────────────────────────┴───────────────┘\n"
      ]
     },
     "metadata": {},
     "output_type": "display_data"
    },
    {
     "data": {
      "text/html": [
       "<pre style=\"white-space:pre;overflow-x:auto;line-height:normal;font-family:Menlo,'DejaVu Sans Mono',consolas,'Courier New',monospace\"><span style=\"font-weight: bold\"> Total params: </span><span style=\"color: #00af00; text-decoration-color: #00af00\">6,567,262</span> (25.05 MB)\n",
       "</pre>\n"
      ],
      "text/plain": [
       "\u001b[1m Total params: \u001b[0m\u001b[38;5;34m6,567,262\u001b[0m (25.05 MB)\n"
      ]
     },
     "metadata": {},
     "output_type": "display_data"
    },
    {
     "data": {
      "text/html": [
       "<pre style=\"white-space:pre;overflow-x:auto;line-height:normal;font-family:Menlo,'DejaVu Sans Mono',consolas,'Courier New',monospace\"><span style=\"font-weight: bold\"> Trainable params: </span><span style=\"color: #00af00; text-decoration-color: #00af00\">2,188,460</span> (8.35 MB)\n",
       "</pre>\n"
      ],
      "text/plain": [
       "\u001b[1m Trainable params: \u001b[0m\u001b[38;5;34m2,188,460\u001b[0m (8.35 MB)\n"
      ]
     },
     "metadata": {},
     "output_type": "display_data"
    },
    {
     "data": {
      "text/html": [
       "<pre style=\"white-space:pre;overflow-x:auto;line-height:normal;font-family:Menlo,'DejaVu Sans Mono',consolas,'Courier New',monospace\"><span style=\"font-weight: bold\"> Non-trainable params: </span><span style=\"color: #00af00; text-decoration-color: #00af00\">1,880</span> (7.34 KB)\n",
       "</pre>\n"
      ],
      "text/plain": [
       "\u001b[1m Non-trainable params: \u001b[0m\u001b[38;5;34m1,880\u001b[0m (7.34 KB)\n"
      ]
     },
     "metadata": {},
     "output_type": "display_data"
    },
    {
     "data": {
      "text/html": [
       "<pre style=\"white-space:pre;overflow-x:auto;line-height:normal;font-family:Menlo,'DejaVu Sans Mono',consolas,'Courier New',monospace\"><span style=\"font-weight: bold\"> Optimizer params: </span><span style=\"color: #00af00; text-decoration-color: #00af00\">4,376,922</span> (16.70 MB)\n",
       "</pre>\n"
      ],
      "text/plain": [
       "\u001b[1m Optimizer params: \u001b[0m\u001b[38;5;34m4,376,922\u001b[0m (16.70 MB)\n"
      ]
     },
     "metadata": {},
     "output_type": "display_data"
    }
   ],
   "source": [
    "model.summary()"
   ]
  },
  {
   "cell_type": "code",
   "execution_count": 22,
   "id": "1965ba66",
   "metadata": {
    "execution": {
     "iopub.execute_input": "2024-04-18T12:48:23.966742Z",
     "iopub.status.busy": "2024-04-18T12:48:23.965846Z",
     "iopub.status.idle": "2024-04-18T12:48:23.971797Z",
     "shell.execute_reply": "2024-04-18T12:48:23.970782Z"
    },
    "papermill": {
     "duration": 15.498792,
     "end_time": "2024-04-18T12:48:23.973824",
     "exception": false,
     "start_time": "2024-04-18T12:48:08.475032",
     "status": "completed"
    },
    "tags": []
   },
   "outputs": [
    {
     "data": {
      "text/plain": [
       "(1147236, 100)"
      ]
     },
     "execution_count": 22,
     "metadata": {},
     "output_type": "execute_result"
    }
   ],
   "source": [
    "X.shape"
   ]
  },
  {
   "cell_type": "code",
   "execution_count": 23,
   "id": "b17c2cf4",
   "metadata": {
    "execution": {
     "iopub.execute_input": "2024-04-18T12:48:54.555000Z",
     "iopub.status.busy": "2024-04-18T12:48:54.554188Z",
     "iopub.status.idle": "2024-04-18T12:48:54.559723Z",
     "shell.execute_reply": "2024-04-18T12:48:54.558913Z"
    },
    "papermill": {
     "duration": 15.180437,
     "end_time": "2024-04-18T12:48:54.561765",
     "exception": false,
     "start_time": "2024-04-18T12:48:39.381328",
     "status": "completed"
    },
    "tags": []
   },
   "outputs": [
    {
     "data": {
      "text/plain": [
       "(1147236, 86)"
      ]
     },
     "execution_count": 23,
     "metadata": {},
     "output_type": "execute_result"
    }
   ],
   "source": [
    "y_encoded.shape"
   ]
  },
  {
   "cell_type": "code",
   "execution_count": null,
   "id": "e7f30ff2",
   "metadata": {
    "papermill": {
     "duration": 15.332585,
     "end_time": "2024-04-18T12:49:25.118981",
     "exception": false,
     "start_time": "2024-04-18T12:49:09.786396",
     "status": "completed"
    },
    "tags": []
   },
   "outputs": [],
   "source": []
  },
  {
   "cell_type": "code",
   "execution_count": 24,
   "id": "7c9cf0d8",
   "metadata": {
    "execution": {
     "iopub.execute_input": "2024-04-18T12:49:55.774702Z",
     "iopub.status.busy": "2024-04-18T12:49:55.774353Z",
     "iopub.status.idle": "2024-04-18T12:49:55.779308Z",
     "shell.execute_reply": "2024-04-18T12:49:55.778434Z"
    },
    "papermill": {
     "duration": 15.386609,
     "end_time": "2024-04-18T12:49:55.781240",
     "exception": false,
     "start_time": "2024-04-18T12:49:40.394631",
     "status": "completed"
    },
    "tags": []
   },
   "outputs": [],
   "source": [
    "def make_array_multiple_of(arr, num):\n",
    "    remainder = len(arr) % num\n",
    "    if remainder != 0:\n",
    "        return arr[:-remainder]\n",
    "    else:\n",
    "        return arr"
   ]
  },
  {
   "cell_type": "code",
   "execution_count": 25,
   "id": "a227d6cd",
   "metadata": {
    "execution": {
     "iopub.execute_input": "2024-04-18T12:50:26.620776Z",
     "iopub.status.busy": "2024-04-18T12:50:26.620419Z",
     "iopub.status.idle": "2024-04-18T12:50:26.626380Z",
     "shell.execute_reply": "2024-04-18T12:50:26.625602Z"
    },
    "papermill": {
     "duration": 15.356371,
     "end_time": "2024-04-18T12:50:26.628259",
     "exception": false,
     "start_time": "2024-04-18T12:50:11.271888",
     "status": "completed"
    },
    "tags": []
   },
   "outputs": [
    {
     "data": {
      "text/plain": [
       "100"
      ]
     },
     "execution_count": 25,
     "metadata": {},
     "output_type": "execute_result"
    }
   ],
   "source": [
    "num = SEQ_LENGTH\n",
    "num"
   ]
  },
  {
   "cell_type": "code",
   "execution_count": 26,
   "id": "006c9346",
   "metadata": {
    "execution": {
     "iopub.execute_input": "2024-04-18T12:50:57.276789Z",
     "iopub.status.busy": "2024-04-18T12:50:57.275747Z",
     "iopub.status.idle": "2024-04-18T12:50:57.283940Z",
     "shell.execute_reply": "2024-04-18T12:50:57.283019Z"
    },
    "papermill": {
     "duration": 15.459817,
     "end_time": "2024-04-18T12:50:57.285808",
     "exception": false,
     "start_time": "2024-04-18T12:50:41.825991",
     "status": "completed"
    },
    "tags": []
   },
   "outputs": [],
   "source": [
    "def generate_music(seed_sequence, length=100):\n",
    "    \n",
    "    generated = seed_sequence\n",
    "    \n",
    "    seed_sequence_numeric = []\n",
    "    \n",
    "#     print(seed_sequence)\n",
    "    \n",
    "    for token in seed_sequence:\n",
    "        seed_sequence_numeric.append(token_to_index[token])\n",
    "#         print(token)\n",
    "        \n",
    "#     print(seed_sequence_numeric)\n",
    "        \n",
    "    seed_sequence_numeric = np.array(seed_sequence_numeric)\n",
    "    \n",
    "    seed_sequence_numeric = make_array_multiple_of(seed_sequence_numeric, num)\n",
    "    \n",
    "    print(seed_sequence_numeric.shape)\n",
    "    \n",
    "    for _ in range(length):\n",
    "        \n",
    "        input_seq = seed_sequence_numeric[_ : _+num]\n",
    "        input_seq = input_seq.reshape(-1, num)\n",
    "        \n",
    "        preds = model.predict(input_seq, verbose=0)\n",
    "        predicted_classes = np.argmax(preds, axis=1)\n",
    "        next_token = index_to_token[predicted_classes[0]]\n",
    "        generated += next_token\n",
    "        \n",
    "        seed_sequence_numeric = seed_sequence_numeric.reshape(-1)\n",
    "#         print(seed_sequence_numeric)\n",
    "#         print(predicted_classes)\n",
    "        seed_sequence_numeric = np.append(seed_sequence_numeric, predicted_classes)\n",
    "#         print(seed_sequence_numeric)\n",
    "        \n",
    "#     print(generated)\n",
    "\n",
    "    return generated"
   ]
  },
  {
   "cell_type": "code",
   "execution_count": 27,
   "id": "328669ac",
   "metadata": {
    "execution": {
     "iopub.execute_input": "2024-04-18T12:51:27.720219Z",
     "iopub.status.busy": "2024-04-18T12:51:27.719515Z",
     "iopub.status.idle": "2024-04-18T12:51:27.725814Z",
     "shell.execute_reply": "2024-04-18T12:51:27.724885Z"
    },
    "papermill": {
     "duration": 15.217613,
     "end_time": "2024-04-18T12:51:27.727902",
     "exception": false,
     "start_time": "2024-04-18T12:51:12.510289",
     "status": "completed"
    },
    "tags": []
   },
   "outputs": [
    {
     "data": {
      "text/plain": [
       "'m\"BcB \"E7\"B2f|\"A\"ecc c2f|\"A\"ecc c2c/2d/2|\"D\"efe \"E7\"dcB| [1\"A\"Ace a2:|[2\"A\"Ace ag=g||\\\\\"D\"f2f Fdd|\"D\"AFA f2e/2f/2|\"G\"g2g ecd|\"Em\"efd \"A7\"cBA|\"D\"f^ef dcd|\"D\"AFA f=ef|\"G\"gfg \"A7\"ABc |1\"D\"d3 d2e:|2\"D\"d3 d2||\\n\\n\"G\"g2g B^AB|d2d G3|\"Em\"GAB \"Am\"A2A|\"D7\"ABc \"G\"BAG|\"G\"g2g B^AB|d2d G2G|\"Em\"GAB \"Am\"A2G|\"D7\"FGA \"G\"G3::\"D7\"A^GA DFA|\"G\"B^AB G3|\"A7\"^c=c^c Ace|\"D7\"fef def|\"G\"g2g de=f|\"E7\"e2e Bcd|\"Am\"c2c \"D7\"Adc| [1\"G\"B2A G3:|[2\"G\"B2A G2F||\"Em\"E2E G2G|'"
      ]
     },
     "execution_count": 27,
     "metadata": {},
     "output_type": "execute_result"
    }
   ],
   "source": [
    "abc_data[37:474]"
   ]
  },
  {
   "cell_type": "code",
   "execution_count": 28,
   "id": "f3b4fe0d",
   "metadata": {
    "execution": {
     "iopub.execute_input": "2024-04-18T12:51:58.277550Z",
     "iopub.status.busy": "2024-04-18T12:51:58.276713Z",
     "iopub.status.idle": "2024-04-18T12:52:33.511251Z",
     "shell.execute_reply": "2024-04-18T12:52:33.510351Z"
    },
    "papermill": {
     "duration": 50.443761,
     "end_time": "2024-04-18T12:52:33.513370",
     "exception": false,
     "start_time": "2024-04-18T12:51:43.069609",
     "status": "completed"
    },
    "tags": []
   },
   "outputs": [
    {
     "name": "stdout",
     "output_type": "stream",
     "text": [
      "(300,)\n"
     ]
    },
    {
     "data": {
      "text/plain": [
       "'cFA d2e/2f/2|\"G\"g2g \"cc|\"Em\"ecd \"A7\"cBA|\"D\"fgef deB|\"D\"AFF f2ed|\"G\"gfg \"A7\"aBc||1\"E\"dc d2::|2\"D\"d2 \"2||\\n\\n\"D\"g2g g^AB|G2d G3|\"Gm\"GAB \"Am\"ABA|\"D7\"FBc \"G\"dAG|\"A\"g2g d2AB|\"2d d2B|\"Gm\"BAB \"A7\"c2B|\"D7\"FGA \"G\"EB:g:|2^/2|\"G\"gbg \"D\"B\"bm\"Bde \"A7\"e3c|\"D7dea 2def|\"E\"cFA \"2:||[G\"Bfg \"B7\"aec|\"\\n\"Emdcd\"ec|F[|A\"dedfG\"\":\\n\"D\"f2f \"fff|\"2B d2|\"G\"\"d2B \"Gm\"c2c|\"D7\"cB3 \"G\"deB|\"GmA2g \"^B||\"Cm\"c2d \"E\"\"dAG dD7\"dBe|\"D7\"AGA \"G\"G2c:\"\"\"\"gaa\"G\"d2g gC7aAp#\"\"cB||Gm\"ad||\"Gm\"\"f \"\"Bd|\"Gmg3E \"D\"\"2:13B/B aC7\"agf|\"E\"\"g\"BB \"aB:AB\"3A7|'"
      ]
     },
     "execution_count": 28,
     "metadata": {},
     "output_type": "execute_result"
    }
   ],
   "source": [
    "seed_sequence = abc_data[37:374]\n",
    "# seed_sequence\n",
    "y = generate_music(seed_sequence, length=500)\n",
    "y[-500:-1]\n",
    "# print(len(y))\n",
    "\n",
    "# preds = model.predict(y[0], verbose=0)\n",
    "# preds"
   ]
  },
  {
   "cell_type": "code",
   "execution_count": null,
   "id": "863b73a5",
   "metadata": {
    "papermill": {
     "duration": 15.317778,
     "end_time": "2024-04-18T12:53:04.165397",
     "exception": false,
     "start_time": "2024-04-18T12:52:48.847619",
     "status": "completed"
    },
    "tags": []
   },
   "outputs": [],
   "source": []
  },
  {
   "cell_type": "code",
   "execution_count": 29,
   "id": "5dc87ac0",
   "metadata": {
    "execution": {
     "iopub.execute_input": "2024-04-18T12:53:34.679340Z",
     "iopub.status.busy": "2024-04-18T12:53:34.678840Z",
     "iopub.status.idle": "2024-04-18T12:53:34.683328Z",
     "shell.execute_reply": "2024-04-18T12:53:34.682376Z"
    },
    "papermill": {
     "duration": 15.235737,
     "end_time": "2024-04-18T12:53:34.685361",
     "exception": false,
     "start_time": "2024-04-18T12:53:19.449624",
     "status": "completed"
    },
    "tags": []
   },
   "outputs": [],
   "source": [
    "# seq = np.array([[1,2], [2,3]])\n",
    "\n",
    "# encoder = OneHotEncoder(categories=[range(num_tokens)], )\n",
    "# en = encoder.fit_transform(seq.reshape(-1, 1))"
   ]
  },
  {
   "cell_type": "code",
   "execution_count": 30,
   "id": "c4bf4e68",
   "metadata": {
    "execution": {
     "iopub.execute_input": "2024-04-18T12:54:05.423424Z",
     "iopub.status.busy": "2024-04-18T12:54:05.422677Z",
     "iopub.status.idle": "2024-04-18T12:54:05.427001Z",
     "shell.execute_reply": "2024-04-18T12:54:05.426065Z"
    },
    "papermill": {
     "duration": 15.227329,
     "end_time": "2024-04-18T12:54:05.428923",
     "exception": false,
     "start_time": "2024-04-18T12:53:50.201594",
     "status": "completed"
    },
    "tags": []
   },
   "outputs": [],
   "source": [
    "# seed_sequence = 'f|\"A\"|'\n",
    "# y = generate_music(seed_sequence, length=100)\n",
    "\n",
    "# # print(len(y))\n",
    "\n",
    "# # preds = model.predict(y[0], verbose=0)\n",
    "# # preds"
   ]
  },
  {
   "cell_type": "code",
   "execution_count": 31,
   "id": "612e3340",
   "metadata": {
    "execution": {
     "iopub.execute_input": "2024-04-18T12:54:36.269598Z",
     "iopub.status.busy": "2024-04-18T12:54:36.269262Z",
     "iopub.status.idle": "2024-04-18T12:54:36.273206Z",
     "shell.execute_reply": "2024-04-18T12:54:36.272268Z"
    },
    "papermill": {
     "duration": 15.492061,
     "end_time": "2024-04-18T12:54:36.275066",
     "exception": false,
     "start_time": "2024-04-18T12:54:20.783005",
     "status": "completed"
    },
    "tags": []
   },
   "outputs": [],
   "source": [
    "# y_test = np.array([[62, 83], [83, 3]])\n",
    "# y_test"
   ]
  },
  {
   "cell_type": "code",
   "execution_count": 32,
   "id": "d72f3734",
   "metadata": {
    "execution": {
     "iopub.execute_input": "2024-04-18T12:55:06.982806Z",
     "iopub.status.busy": "2024-04-18T12:55:06.982122Z",
     "iopub.status.idle": "2024-04-18T12:55:06.986352Z",
     "shell.execute_reply": "2024-04-18T12:55:06.985402Z"
    },
    "papermill": {
     "duration": 15.326599,
     "end_time": "2024-04-18T12:55:06.988310",
     "exception": false,
     "start_time": "2024-04-18T12:54:51.661711",
     "status": "completed"
    },
    "tags": []
   },
   "outputs": [],
   "source": [
    "# encoder = OneHotEncoder(categories=[range(num_tokens)], sparse=False)\n",
    "# y_encoded = encoder.fit_transform(y_test.reshape(-1, 1))\n",
    "# y_encoded"
   ]
  },
  {
   "cell_type": "code",
   "execution_count": 33,
   "id": "3e92806c",
   "metadata": {
    "execution": {
     "iopub.execute_input": "2024-04-18T12:55:37.511889Z",
     "iopub.status.busy": "2024-04-18T12:55:37.511180Z",
     "iopub.status.idle": "2024-04-18T12:55:37.515255Z",
     "shell.execute_reply": "2024-04-18T12:55:37.514419Z"
    },
    "papermill": {
     "duration": 15.141575,
     "end_time": "2024-04-18T12:55:37.517188",
     "exception": false,
     "start_time": "2024-04-18T12:55:22.375613",
     "status": "completed"
    },
    "tags": []
   },
   "outputs": [],
   "source": [
    "# y_encoded[0].shape"
   ]
  },
  {
   "cell_type": "code",
   "execution_count": 34,
   "id": "e739b665",
   "metadata": {
    "execution": {
     "iopub.execute_input": "2024-04-18T12:56:08.161326Z",
     "iopub.status.busy": "2024-04-18T12:56:08.160629Z",
     "iopub.status.idle": "2024-04-18T12:56:08.164645Z",
     "shell.execute_reply": "2024-04-18T12:56:08.163719Z"
    },
    "papermill": {
     "duration": 15.4246,
     "end_time": "2024-04-18T12:56:08.166504",
     "exception": false,
     "start_time": "2024-04-18T12:55:52.741904",
     "status": "completed"
    },
    "tags": []
   },
   "outputs": [],
   "source": [
    "# preds = model.predict(y_encoded, verbose=0)\n",
    "# preds"
   ]
  },
  {
   "cell_type": "code",
   "execution_count": 35,
   "id": "5758c47a",
   "metadata": {
    "execution": {
     "iopub.execute_input": "2024-04-18T12:56:39.013922Z",
     "iopub.status.busy": "2024-04-18T12:56:39.013583Z",
     "iopub.status.idle": "2024-04-18T12:56:39.017502Z",
     "shell.execute_reply": "2024-04-18T12:56:39.016595Z"
    },
    "papermill": {
     "duration": 15.280737,
     "end_time": "2024-04-18T12:56:39.019394",
     "exception": false,
     "start_time": "2024-04-18T12:56:23.738657",
     "status": "completed"
    },
    "tags": []
   },
   "outputs": [],
   "source": [
    "# predicted_classes = np.argmax(preds, axis=1)\n",
    "# predicted_classes"
   ]
  },
  {
   "cell_type": "code",
   "execution_count": 36,
   "id": "d96f0365",
   "metadata": {
    "execution": {
     "iopub.execute_input": "2024-04-18T12:57:09.399643Z",
     "iopub.status.busy": "2024-04-18T12:57:09.399279Z",
     "iopub.status.idle": "2024-04-18T12:57:09.403657Z",
     "shell.execute_reply": "2024-04-18T12:57:09.402666Z"
    },
    "papermill": {
     "duration": 15.287066,
     "end_time": "2024-04-18T12:57:09.405684",
     "exception": false,
     "start_time": "2024-04-18T12:56:54.118618",
     "status": "completed"
    },
    "tags": []
   },
   "outputs": [],
   "source": [
    "# seed_sequence = 'f|\"A\"ecc c2f|\"A\"ecc c2f|\"A\"ecc c2f|'\n",
    "# generated_music = generate_music(seed_sequence, length=500)\n",
    "# print(generated_music)"
   ]
  },
  {
   "cell_type": "code",
   "execution_count": null,
   "id": "50b8dd24",
   "metadata": {
    "papermill": {
     "duration": 15.301528,
     "end_time": "2024-04-18T12:57:40.105029",
     "exception": false,
     "start_time": "2024-04-18T12:57:24.803501",
     "status": "completed"
    },
    "tags": []
   },
   "outputs": [],
   "source": []
  },
  {
   "cell_type": "code",
   "execution_count": null,
   "id": "582576fb",
   "metadata": {
    "papermill": {
     "duration": 15.358481,
     "end_time": "2024-04-18T12:58:10.884414",
     "exception": false,
     "start_time": "2024-04-18T12:57:55.525933",
     "status": "completed"
    },
    "tags": []
   },
   "outputs": [],
   "source": []
  }
 ],
 "metadata": {
  "kaggle": {
   "accelerator": "nvidiaTeslaT4",
   "dataSources": [
    {
     "datasetId": 4653420,
     "sourceId": 7919173,
     "sourceType": "datasetVersion"
    }
   ],
   "dockerImageVersionId": 30674,
   "isGpuEnabled": true,
   "isInternetEnabled": true,
   "language": "python",
   "sourceType": "notebook"
  },
  "kernelspec": {
   "display_name": "Python 3",
   "language": "python",
   "name": "python3"
  },
  "language_info": {
   "codemirror_mode": {
    "name": "ipython",
    "version": 3
   },
   "file_extension": ".py",
   "mimetype": "text/x-python",
   "name": "python",
   "nbconvert_exporter": "python",
   "pygments_lexer": "ipython3",
   "version": "3.10.13"
  },
  "papermill": {
   "default_parameters": {},
   "duration": 10684.050672,
   "end_time": "2024-04-18T12:58:28.931210",
   "environment_variables": {},
   "exception": null,
   "input_path": "__notebook__.ipynb",
   "output_path": "__notebook__.ipynb",
   "parameters": {},
   "start_time": "2024-04-18T10:00:24.880538",
   "version": "2.5.0"
  }
 },
 "nbformat": 4,
 "nbformat_minor": 5
}
